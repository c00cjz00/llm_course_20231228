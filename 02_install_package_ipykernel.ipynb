{
 "cells": [
  {
   "cell_type": "markdown",
   "id": "8446a09f-16a6-4103-8fea-2bb575d64f25",
   "metadata": {},
   "source": [
    "## 02_install_package_ipykernel\n",
    "#### <span style=\"color:red\">Change to your image kernel:   Image_S_XXXXXXXXXXl</span>."
   ]
  },
  {
   "cell_type": "code",
   "execution_count": null,
   "id": "7f85861f-0081-4292-a324-1ca99e02f62f",
   "metadata": {
    "tags": []
   },
   "outputs": [],
   "source": [
    "# 初始環境設定\n",
    "import os\n",
    "from pathlib import Path\n",
    "HOME = str(Path.home())\n",
    "Add_Binarry_Path=HOME+'/.local/bin:/usr/ubuntu_bin'\n",
    "os.environ['PATH']=os.environ['PATH']+':'+Add_Binarry_Path"
   ]
  },
  {
   "cell_type": "code",
   "execution_count": null,
   "id": "9572cc89-ca7c-4458-ac51-4d8be647a29f",
   "metadata": {},
   "outputs": [],
   "source": [
    "## 安裝套件\n",
    "!pip install -r requirements.txt -q"
   ]
  },
  {
   "cell_type": "code",
   "execution_count": null,
   "id": "d9c29c2c-d963-4d79-b550-41010c4f1169",
   "metadata": {},
   "outputs": [],
   "source": [
    "# CHECK INSTALL PACKAGE SIZE\n",
    "!du -sh $HOME/.local/b*\n",
    "!du -sh $HOME/.local/l*"
   ]
  },
  {
   "cell_type": "code",
   "execution_count": null,
   "id": "98891bc7-6115-4925-a2d9-503a842446eb",
   "metadata": {
    "tags": []
   },
   "outputs": [],
   "source": [
    "# CHECK INSTALL PACKAGE DIRECTORY\n",
    "!du -sh ${HOME}/libraryFolder/*/*/*"
   ]
  },
  {
   "cell_type": "code",
   "execution_count": null,
   "id": "49fed764-67a7-45eb-bf14-354c0697b719",
   "metadata": {
    "tags": []
   },
   "outputs": [],
   "source": [
    "# LIST NOTEBOOK KERNEL FOLDER 請將右上方kernel 切換到原生 python ipykerl 選單\n",
    "!ls ${HOME}/.local/share/jupyter/kernels/"
   ]
  }
 ],
 "metadata": {
  "kernelspec": {
   "display_name": "Python 3 (ipykernel)",
   "language": "python",
   "name": "python3"
  },
  "language_info": {
   "codemirror_mode": {
    "name": "ipython",
    "version": 3
   },
   "file_extension": ".py",
   "mimetype": "text/x-python",
   "name": "python",
   "nbconvert_exporter": "python",
   "pygments_lexer": "ipython3",
   "version": "3.8.16"
  }
 },
 "nbformat": 4,
 "nbformat_minor": 5
}
