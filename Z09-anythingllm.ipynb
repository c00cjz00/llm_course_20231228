{
 "cells": [
  {
   "cell_type": "markdown",
   "id": "015ef768-3bb0-4a89-863d-380aa18d709b",
   "metadata": {},
   "source": [
    "## 下載 anything-llm 進行編譯"
   ]
  },
  {
   "cell_type": "code",
   "execution_count": 22,
   "id": "f9d6af44-9031-4a94-8bf0-2696215b3396",
   "metadata": {
    "tags": []
   },
   "outputs": [
    {
     "name": "stdout",
     "output_type": "stream",
     "text": [
      "Cloning into 'anything-llm'...\n"
     ]
    }
   ],
   "source": [
    "%%bash\n",
    "rm -rf anything-llm\n",
    "git clone https://github.com/Mintplex-Labs/anything-llm.git"
   ]
  },
  {
   "cell_type": "code",
   "execution_count": 23,
   "id": "96eb5cee-76e5-4e42-82b0-31e119fd0357",
   "metadata": {
    "tags": []
   },
   "outputs": [],
   "source": [
    "%%bash\n",
    "cat << \\EOF >  demo.script\n",
    "DIR=\"$( cd \"$( dirname \"${BASH_SOURCE[0]}\" )\" >/dev/null 2>&1 && pwd )\"\n",
    "\n",
    "echo \"fix\"\n",
    "sed -i \"s/5.3.0/5.3.1/g\" ${DIR}/anything-llm//server/package.json\n",
    "\n",
    "echo \"Rebuilding Frontend\"\n",
    "cd ${DIR}/anything-llm/frontend && yarn && yarn build\n",
    "\n",
    "echo \"Copying to Sever Public\"\n",
    "rm -rf ${DIR}/anything-llm/server/public\n",
    "cp -r ${DIR}/anything-llm/frontend/dist ${DIR}/anything-llm/server/public\n",
    "\n",
    "echo \"Installing collector dependencies\"\n",
    "cd ${DIR}/anything-llm/collector && yarn\n",
    "\n",
    "echo \"Installing server dependencies & running migrations\"\n",
    "cd ${DIR}/anything-llm/server && yarn\n",
    "cd ${DIR}/anything-llm/server && npx prisma migrate deploy --schema=./prisma/schema.prisma\n",
    "cd ${DIR}/anything-llm/server && npx prisma generate\n",
    "\n",
    "echo \".env\"\n",
    "touch ${DIR}/anything-llm/server/.env\n",
    "\n",
    "EOF\n",
    "\n",
    "chmod 755 demo.script"
   ]
  },
  {
   "cell_type": "code",
   "execution_count": 24,
   "id": "4a9a0ba3-e0a4-44ff-a079-d6a0620bbcd2",
   "metadata": {
    "tags": []
   },
   "outputs": [
    {
     "name": "stderr",
     "output_type": "stream",
     "text": [
      "/home/g00cjz00/demo2024/llm_course_20231228/demo.script: 1: Bad substitution\n"
     ]
    },
    {
     "name": "stdout",
     "output_type": "stream",
     "text": [
      "fix\n",
      "Rebuilding Frontend\n",
      "\u001b[2K\u001b[1G\u001b[1myarn install v1.22.19\u001b[22m\n",
      "\u001b[2K\u001b[1G\u001b[2m[1/4]\u001b[22m Resolving packages...\n",
      "\u001b[2K\u001b[1G\u001b[2m[2/4]\u001b[22m Fetching packages...\n",
      "\u001b[2K\u001b[1G\u001b[2m[3/4]\u001b[22m Linking dependencies...\n"
     ]
    },
    {
     "name": "stderr",
     "output_type": "stream",
     "text": [
      "\u001b[2K\u001b[1G\u001b[33mwarning\u001b[39m \" > @esbuild-plugins/node-globals-polyfill@0.1.1\" has unmet peer dependency \"esbuild@*\".\n"
     ]
    },
    {
     "name": "stdout",
     "output_type": "stream",
     "text": [
      "\u001b[2K\u001b[1G\u001b[2m[4/4]\u001b[22m Building fresh packages...\n",
      "\u001b[2K\u001b[1GDone in 7.19s.\n",
      "\u001b[2K\u001b[1G\u001b[1myarn run v1.22.19\u001b[22m\n",
      "\u001b[2K\u001b[1G\u001b[2m$ vite build\u001b[22m\n",
      "\u001b[36mvite v4.5.0 \u001b[32mbuilding for production...\u001b[36m\u001b[39m\n",
      "transforming...\n",
      "\u001b[32m✓\u001b[39m 3163 modules transformed.\n",
      "rendering chunks...\n",
      "computing gzip size...\n",
      "\u001b[2mdist/\u001b[22m\u001b[2massets/\u001b[22m\u001b[32mslash-commands-icon-16b44cbd.svg    \u001b[39m\u001b[1m\u001b[2m  0.35 kB\u001b[22m\u001b[1m\u001b[22m\u001b[2m │ gzip:   0.22 kB\u001b[22m\n",
      "\u001b[2mdist/\u001b[22m\u001b[32mindex.html                                 \u001b[39m\u001b[1m\u001b[2m  1.69 kB\u001b[22m\u001b[1m\u001b[22m\u001b[2m │ gzip:   0.55 kB\u001b[22m\n",
      "\u001b[2mdist/\u001b[22m\u001b[2massets/\u001b[22m\u001b[32mmilvus-859aae61.png                 \u001b[39m\u001b[1m\u001b[2m  4.25 kB\u001b[22m\u001b[1m\u001b[22m\n",
      "\u001b[2mdist/\u001b[22m\u001b[2massets/\u001b[22m\u001b[32mmistral-7617df59.jpeg               \u001b[39m\u001b[1m\u001b[2m  4.54 kB\u001b[22m\u001b[1m\u001b[22m\n",
      "\u001b[2mdist/\u001b[22m\u001b[2massets/\u001b[22m\u001b[32myoutube-b0678cf5.png                \u001b[39m\u001b[1m\u001b[2m  5.41 kB\u001b[22m\u001b[1m\u001b[22m\n",
      "\u001b[2mdist/\u001b[22m\u001b[2massets/\u001b[22m\u001b[32manything-llm-67ade0a8.png           \u001b[39m\u001b[1m\u001b[2m  6.32 kB\u001b[22m\u001b[1m\u001b[22m\n",
      "\u001b[2mdist/\u001b[22m\u001b[2massets/\u001b[22m\u001b[32mtogetherai-23bbd12b.png             \u001b[39m\u001b[1m\u001b[2m  8.36 kB\u001b[22m\u001b[1m\u001b[22m\n",
      "\u001b[2mdist/\u001b[22m\u001b[2massets/\u001b[22m\u001b[32manthropic-f5b83291.png              \u001b[39m\u001b[1m\u001b[2m 11.89 kB\u001b[22m\u001b[1m\u001b[22m\n",
      "\u001b[2mdist/\u001b[22m\u001b[2massets/\u001b[22m\u001b[32mzilliz-3dd28de0.png                 \u001b[39m\u001b[1m\u001b[2m 14.34 kB\u001b[22m\u001b[1m\u001b[22m\n",
      "\u001b[2mdist/\u001b[22m\u001b[2massets/\u001b[22m\u001b[32mqdrant-e1811442.png                 \u001b[39m\u001b[1m\u001b[2m 15.07 kB\u001b[22m\u001b[1m\u001b[22m\n",
      "\u001b[2mdist/\u001b[22m\u001b[2massets/\u001b[22m\u001b[32mhuggingface-e6e5045d.png            \u001b[39m\u001b[1m\u001b[2m 17.57 kB\u001b[22m\u001b[1m\u001b[22m\n",
      "\u001b[2mdist/\u001b[22m\u001b[2massets/\u001b[22m\u001b[32mcreate-workspace-7b54259b.png       \u001b[39m\u001b[1m\u001b[2m 18.41 kB\u001b[22m\u001b[1m\u001b[22m\n",
      "\u001b[2mdist/\u001b[22m\u001b[2massets/\u001b[22m\u001b[32mgithub-4d0d04cb.png                 \u001b[39m\u001b[1m\u001b[2m 22.06 kB\u001b[22m\u001b[1m\u001b[22m\n",
      "\u001b[2mdist/\u001b[22m\u001b[2massets/\u001b[22m\u001b[32mopenai-702c1dd3.png                 \u001b[39m\u001b[1m\u001b[2m 22.74 kB\u001b[22m\u001b[1m\u001b[22m\n",
      "\u001b[2mdist/\u001b[22m\u001b[2massets/\u001b[22m\u001b[32mlmstudio-e755908f.png               \u001b[39m\u001b[1m\u001b[2m 23.55 kB\u001b[22m\u001b[1m\u001b[22m\n",
      "\u001b[2mdist/\u001b[22m\u001b[2massets/\u001b[22m\u001b[32mollama-7dea0e3d.png                 \u001b[39m\u001b[1m\u001b[2m 23.63 kB\u001b[22m\u001b[1m\u001b[22m\n",
      "\u001b[2mdist/\u001b[22m\u001b[2massets/\u001b[22m\u001b[32mgemini-e28c949a.png                 \u001b[39m\u001b[1m\u001b[2m 26.35 kB\u001b[22m\u001b[1m\u001b[22m\n",
      "\u001b[2mdist/\u001b[22m\u001b[2massets/\u001b[22m\u001b[32mweaviate-58417912.png               \u001b[39m\u001b[1m\u001b[2m 32.17 kB\u001b[22m\u001b[1m\u001b[22m\n",
      "\u001b[2mdist/\u001b[22m\u001b[2massets/\u001b[22m\u001b[32mazure-0b70cf5b.png                  \u001b[39m\u001b[1m\u001b[2m 34.71 kB\u001b[22m\u001b[1m\u001b[22m\n",
      "\u001b[2mdist/\u001b[22m\u001b[2massets/\u001b[22m\u001b[32ml_group-cd4e92bc.png                \u001b[39m\u001b[1m\u001b[2m 74.25 kB\u001b[22m\u001b[1m\u001b[22m\n",
      "\u001b[2mdist/\u001b[22m\u001b[2massets/\u001b[22m\u001b[32mr_group-f13ad3f8.png                \u001b[39m\u001b[1m\u001b[2m 81.77 kB\u001b[22m\u001b[1m\u001b[22m\n",
      "\u001b[2mdist/\u001b[22m\u001b[2massets/\u001b[22m\u001b[32mPlusJakartaSans-e493fee2.ttf        \u001b[39m\u001b[1m\u001b[2m176.14 kB\u001b[22m\u001b[1m\u001b[22m\n",
      "\u001b[2mdist/\u001b[22m\u001b[2massets/\u001b[22m\u001b[32mlocalai-8a3d8735.png                \u001b[39m\u001b[1m\u001b[2m177.83 kB\u001b[22m\u001b[1m\u001b[22m\n",
      "\u001b[2mdist/\u001b[22m\u001b[2massets/\u001b[22m\u001b[32manything-llm-icon-4682b8d2.png      \u001b[39m\u001b[1m\u001b[2m204.17 kB\u001b[22m\u001b[1m\u001b[22m\n",
      "\u001b[2mdist/\u001b[22m\u001b[2massets/\u001b[22m\u001b[35mskeleton-e35181b6.css               \u001b[39m\u001b[1m\u001b[2m  1.01 kB\u001b[22m\u001b[1m\u001b[22m\u001b[2m │ gzip:   0.45 kB\u001b[22m\n",
      "\u001b[2mdist/\u001b[22m\u001b[2massets/\u001b[22m\u001b[35mgithub-dark-dimmed-fe1e3b76.css     \u001b[39m\u001b[1m\u001b[2m  1.25 kB\u001b[22m\u001b[1m\u001b[22m\u001b[2m │ gzip:   0.59 kB\u001b[22m\n",
      "\u001b[2mdist/\u001b[22m\u001b[2massets/\u001b[22m\u001b[35mindex-9d0489b5.css                  \u001b[39m\u001b[1m\u001b[2m 63.87 kB\u001b[22m\u001b[1m\u001b[22m\u001b[2m │ gzip:  12.28 kB\u001b[22m\n",
      "\u001b[2mdist/\u001b[22m\u001b[2massets/\u001b[22m\u001b[36museQuery-fefe8fa5.js                \u001b[39m\u001b[1m\u001b[2m  0.08 kB\u001b[22m\u001b[1m\u001b[22m\u001b[2m │ gzip:   0.10 kB\u001b[22m\n",
      "\u001b[2mdist/\u001b[22m\u001b[2massets/\u001b[22m\u001b[36museModal-8b4de36c.js                \u001b[39m\u001b[1m\u001b[2m  0.15 kB\u001b[22m\u001b[1m\u001b[22m\u001b[2m │ gzip:   0.15 kB\u001b[22m\n",
      "\u001b[2mdist/\u001b[22m\u001b[2massets/\u001b[22m\u001b[36mindex-c7aee0c6.js                   \u001b[39m\u001b[1m\u001b[2m  0.26 kB\u001b[22m\u001b[1m\u001b[22m\u001b[2m │ gzip:   0.22 kB\u001b[22m\n",
      "\u001b[2mdist/\u001b[22m\u001b[2massets/\u001b[22m\u001b[36mindex-b542d8eb.js                   \u001b[39m\u001b[1m\u001b[2m  0.52 kB\u001b[22m\u001b[1m\u001b[22m\u001b[2m │ gzip:   0.39 kB\u001b[22m\n",
      "\u001b[2mdist/\u001b[22m\u001b[2massets/\u001b[22m\u001b[36mnumbers-52157fbe.js                 \u001b[39m\u001b[1m\u001b[2m  0.70 kB\u001b[22m\u001b[1m\u001b[22m\u001b[2m │ gzip:   0.44 kB\u001b[22m\n",
      "\u001b[2mdist/\u001b[22m\u001b[2massets/\u001b[22m\u001b[36mtruncate-903d2f41.js                \u001b[39m\u001b[1m\u001b[2m  0.73 kB\u001b[22m\u001b[1m\u001b[22m\u001b[2m │ gzip:   0.46 kB\u001b[22m\n",
      "\u001b[2mdist/\u001b[22m\u001b[2massets/\u001b[22m\u001b[36mindex-0321c76d.js                   \u001b[39m\u001b[1m\u001b[2m  0.88 kB\u001b[22m\u001b[1m\u001b[22m\u001b[2m │ gzip:   0.38 kB\u001b[22m\n",
      "\u001b[2mdist/\u001b[22m\u001b[2massets/\u001b[22m\u001b[36membed-fb3ba812.js                   \u001b[39m\u001b[1m\u001b[2m  1.14 kB\u001b[22m\u001b[1m\u001b[22m\u001b[2m │ gzip:   0.44 kB\u001b[22m\n",
      "\u001b[2mdist/\u001b[22m\u001b[2massets/\u001b[22m\u001b[36mindex-b8d8420f.js                   \u001b[39m\u001b[1m\u001b[2m  1.31 kB\u001b[22m\u001b[1m\u001b[22m\u001b[2m │ gzip:   0.58 kB\u001b[22m\n",
      "\u001b[2mdist/\u001b[22m\u001b[2massets/\u001b[22m\u001b[36mindex-cc7d0ece.js                   \u001b[39m\u001b[1m\u001b[2m  1.33 kB\u001b[22m\u001b[1m\u001b[22m\u001b[2m │ gzip:   0.52 kB\u001b[22m\n",
      "\u001b[2mdist/\u001b[22m\u001b[2massets/\u001b[22m\u001b[36mindex-e836e56f.js                   \u001b[39m\u001b[1m\u001b[2m  1.42 kB\u001b[22m\u001b[1m\u001b[22m\u001b[2m │ gzip:   0.69 kB\u001b[22m\n",
      "\u001b[2mdist/\u001b[22m\u001b[2massets/\u001b[22m\u001b[36mindex-55a202a4.js                   \u001b[39m\u001b[1m\u001b[2m  1.51 kB\u001b[22m\u001b[1m\u001b[22m\u001b[2m │ gzip:   0.75 kB\u001b[22m\n",
      "\u001b[2mdist/\u001b[22m\u001b[2massets/\u001b[22m\u001b[36mindex-a67b2237.js                   \u001b[39m\u001b[1m\u001b[2m  1.53 kB\u001b[22m\u001b[1m\u001b[22m\u001b[2m │ gzip:   0.82 kB\u001b[22m\n",
      "\u001b[2mdist/\u001b[22m\u001b[2massets/\u001b[22m\u001b[36mCaretDown-1ea7028a.js               \u001b[39m\u001b[1m\u001b[2m  1.77 kB\u001b[22m\u001b[1m\u001b[22m\u001b[2m │ gzip:   0.75 kB\u001b[22m\n",
      "\u001b[2mdist/\u001b[22m\u001b[2massets/\u001b[22m\u001b[36mEnvelopeSimple-27998cea.js          \u001b[39m\u001b[1m\u001b[2m  2.24 kB\u001b[22m\u001b[1m\u001b[22m\u001b[2m │ gzip:   0.87 kB\u001b[22m\n",
      "\u001b[2mdist/\u001b[22m\u001b[2massets/\u001b[22m\u001b[36mDotsThreeOutline-0b1ac628.js        \u001b[39m\u001b[1m\u001b[2m  2.68 kB\u001b[22m\u001b[1m\u001b[22m\u001b[2m │ gzip:   0.77 kB\u001b[22m\n",
      "\u001b[2mdist/\u001b[22m\u001b[2massets/\u001b[22m\u001b[36mindex-9b41b6c1.js                   \u001b[39m\u001b[1m\u001b[2m  2.70 kB\u001b[22m\u001b[1m\u001b[22m\u001b[2m │ gzip:   1.34 kB\u001b[22m\n",
      "\u001b[2mdist/\u001b[22m\u001b[2massets/\u001b[22m\u001b[36mTrash-3004f1ff.js                   \u001b[39m\u001b[1m\u001b[2m  2.95 kB\u001b[22m\u001b[1m\u001b[22m\u001b[2m │ gzip:   0.99 kB\u001b[22m\n",
      "\u001b[2mdist/\u001b[22m\u001b[2massets/\u001b[22m\u001b[36madmin-4c33f8e5.js                   \u001b[39m\u001b[1m\u001b[2m  3.06 kB\u001b[22m\u001b[1m\u001b[22m\u001b[2m │ gzip:   0.68 kB\u001b[22m\n",
      "\u001b[2mdist/\u001b[22m\u001b[2massets/\u001b[22m\u001b[36mindex-89893b25.js                   \u001b[39m\u001b[1m\u001b[2m  3.07 kB\u001b[22m\u001b[1m\u001b[22m\u001b[2m │ gzip:   1.30 kB\u001b[22m\n",
      "\u001b[2mdist/\u001b[22m\u001b[2massets/\u001b[22m\u001b[36mindex-430a0758.js                   \u001b[39m\u001b[1m\u001b[2m  3.66 kB\u001b[22m\u001b[1m\u001b[22m\u001b[2m │ gzip:   1.42 kB\u001b[22m\n",
      "\u001b[2mdist/\u001b[22m\u001b[2massets/\u001b[22m\u001b[36mWarning-1dd01a10.js                 \u001b[39m\u001b[1m\u001b[2m  3.74 kB\u001b[22m\u001b[1m\u001b[22m\u001b[2m │ gzip:   1.28 kB\u001b[22m\n",
      "\u001b[2mdist/\u001b[22m\u001b[2massets/\u001b[22m\u001b[36mindex-41b49ebe.js                   \u001b[39m\u001b[1m\u001b[2m  5.16 kB\u001b[22m\u001b[1m\u001b[22m\u001b[2m │ gzip:   1.75 kB\u001b[22m\n",
      "\u001b[2mdist/\u001b[22m\u001b[2massets/\u001b[22m\u001b[36mindex-67172239.js                   \u001b[39m\u001b[1m\u001b[2m  5.20 kB\u001b[22m\u001b[1m\u001b[22m\u001b[2m │ gzip:   2.25 kB\u001b[22m\n",
      "\u001b[2mdist/\u001b[22m\u001b[2massets/\u001b[22m\u001b[36mindex-57fc6b4d.js                   \u001b[39m\u001b[1m\u001b[2m  5.43 kB\u001b[22m\u001b[1m\u001b[22m\u001b[2m │ gzip:   2.24 kB\u001b[22m\n",
      "\u001b[2mdist/\u001b[22m\u001b[2massets/\u001b[22m\u001b[36mindex-b87108e2.js                   \u001b[39m\u001b[1m\u001b[2m  5.70 kB\u001b[22m\u001b[1m\u001b[22m\u001b[2m │ gzip:   2.36 kB\u001b[22m\n",
      "\u001b[2mdist/\u001b[22m\u001b[2massets/\u001b[22m\u001b[36mpluralize-b370a7e1.js               \u001b[39m\u001b[1m\u001b[2m  6.03 kB\u001b[22m\u001b[1m\u001b[22m\u001b[2m │ gzip:   2.55 kB\u001b[22m\n",
      "\u001b[2mdist/\u001b[22m\u001b[2massets/\u001b[22m\u001b[36mindex-87bccb30.js                   \u001b[39m\u001b[1m\u001b[2m  6.33 kB\u001b[22m\u001b[1m\u001b[22m\u001b[2m │ gzip:   2.23 kB\u001b[22m\n",
      "\u001b[2mdist/\u001b[22m\u001b[2massets/\u001b[22m\u001b[36mindex-301968f2.js                   \u001b[39m\u001b[1m\u001b[2m  7.12 kB\u001b[22m\u001b[1m\u001b[22m\u001b[2m │ gzip:   2.42 kB\u001b[22m\n",
      "\u001b[2mdist/\u001b[22m\u001b[2massets/\u001b[22m\u001b[36mindex-2b40c8bd.js                   \u001b[39m\u001b[1m\u001b[2m  7.44 kB\u001b[22m\u001b[1m\u001b[22m\u001b[2m │ gzip:   2.39 kB\u001b[22m\n",
      "\u001b[2mdist/\u001b[22m\u001b[2massets/\u001b[22m\u001b[36mindex-3f1f5d8c.js                   \u001b[39m\u001b[1m\u001b[2m  7.49 kB\u001b[22m\u001b[1m\u001b[22m\u001b[2m │ gzip:   2.68 kB\u001b[22m\n",
      "\u001b[2mdist/\u001b[22m\u001b[2massets/\u001b[22m\u001b[36mindex-2abe154d.js                   \u001b[39m\u001b[1m\u001b[2m  7.80 kB\u001b[22m\u001b[1m\u001b[22m\u001b[2m │ gzip:   2.69 kB\u001b[22m\n",
      "\u001b[2mdist/\u001b[22m\u001b[2massets/\u001b[22m\u001b[36mDatabase-a57bbcbc.js                \u001b[39m\u001b[1m\u001b[2m  8.44 kB\u001b[22m\u001b[1m\u001b[22m\u001b[2m │ gzip:   2.37 kB\u001b[22m\n",
      "\u001b[2mdist/\u001b[22m\u001b[2massets/\u001b[22m\u001b[36mindex-197891ce.js                   \u001b[39m\u001b[1m\u001b[2m  8.86 kB\u001b[22m\u001b[1m\u001b[22m\u001b[2m │ gzip:   2.10 kB\u001b[22m\n",
      "\u001b[2mdist/\u001b[22m\u001b[2massets/\u001b[22m\u001b[36mindex-c9b71ab1.js                   \u001b[39m\u001b[1m\u001b[2m  9.30 kB\u001b[22m\u001b[1m\u001b[22m\u001b[2m │ gzip:   3.21 kB\u001b[22m\n",
      "\u001b[2mdist/\u001b[22m\u001b[2massets/\u001b[22m\u001b[36mindex-e4df0b15.js                   \u001b[39m\u001b[1m\u001b[2m 10.44 kB\u001b[22m\u001b[1m\u001b[22m\u001b[2m │ gzip:   3.01 kB\u001b[22m\n",
      "\u001b[2mdist/\u001b[22m\u001b[2massets/\u001b[22m\u001b[36mindex-7dff20cb.js                   \u001b[39m\u001b[1m\u001b[2m 11.91 kB\u001b[22m\u001b[1m\u001b[22m\u001b[2m │ gzip:   3.67 kB\u001b[22m\n",
      "\u001b[2mdist/\u001b[22m\u001b[2massets/\u001b[22m\u001b[36mindex-338d1626.js                   \u001b[39m\u001b[1m\u001b[2m 12.87 kB\u001b[22m\u001b[1m\u001b[22m\u001b[2m │ gzip:   3.63 kB\u001b[22m\n",
      "\u001b[2mdist/\u001b[22m\u001b[2massets/\u001b[22m\u001b[36mindex-cecd5bec.js                   \u001b[39m\u001b[1m\u001b[2m 15.62 kB\u001b[22m\u001b[1m\u001b[22m\u001b[2m │ gzip:   4.52 kB\u001b[22m\n",
      "\u001b[2mdist/\u001b[22m\u001b[2massets/\u001b[22m\u001b[36mindex-88d48725.js                   \u001b[39m\u001b[1m\u001b[2m 20.35 kB\u001b[22m\u001b[1m\u001b[22m\u001b[2m │ gzip:   5.48 kB\u001b[22m\n",
      "\u001b[2mdist/\u001b[22m\u001b[2massets/\u001b[22m\u001b[36mindex-732575b7.js                   \u001b[39m\u001b[1m\u001b[2m 22.89 kB\u001b[22m\u001b[1m\u001b[22m\u001b[2m │ gzip:   6.07 kB\u001b[22m\n",
      "\u001b[2mdist/\u001b[22m\u001b[2massets/\u001b[22m\u001b[36mindex-0c2e0d60.js                   \u001b[39m\u001b[1m\u001b[2m 32.39 kB\u001b[22m\u001b[1m\u001b[22m\u001b[2m │ gzip:   9.91 kB\u001b[22m\n",
      "\u001b[2mdist/\u001b[22m\u001b[2massets/\u001b[22m\u001b[36mindex-f9f58ad6.js                   \u001b[39m\u001b[1m\u001b[2m 43.19 kB\u001b[22m\u001b[1m\u001b[22m\u001b[2m │ gzip:  10.81 kB\u001b[22m\n",
      "\u001b[2mdist/\u001b[22m\u001b[2massets/\u001b[22m\u001b[36mindex-9976b0c5.js                   \u001b[39m\u001b[1m\u001b[2m 48.12 kB\u001b[22m\u001b[1m\u001b[22m\u001b[2m │ gzip:  11.45 kB\u001b[22m\n",
      "\u001b[2mdist/\u001b[22m\u001b[2massets/\u001b[22m\u001b[36mindex-678379f9.js                   \u001b[39m\u001b[1m\u001b[2m 99.76 kB\u001b[22m\u001b[1m\u001b[22m\u001b[2m │ gzip:  27.46 kB\u001b[22m\n",
      "\u001b[2mdist/\u001b[22m\u001b[2massets/\u001b[22m\u001b[36mindex-4c017ae1.js                   \u001b[39m\u001b[1m\u001b[2m324.50 kB\u001b[22m\u001b[1m\u001b[22m\u001b[2m │ gzip: 118.67 kB\u001b[22m\n",
      "\u001b[2mdist/\u001b[22m\u001b[2massets/\u001b[22m\u001b[36mindex-93187c3a.js                   \u001b[39m\u001b[1m\u001b[2m380.36 kB\u001b[22m\u001b[1m\u001b[22m\u001b[2m │ gzip: 111.47 kB\u001b[22m\n",
      "\u001b[2mdist/\u001b[22m\u001b[2massets/\u001b[22m\u001b[36mgithub-dark-dimmed.min-206b156b.js  \u001b[39m\u001b[1m\u001b[33m913.60 kB\u001b[39m\u001b[22m\u001b[2m │ gzip: 304.07 kB\u001b[22m\n"
     ]
    },
    {
     "name": "stderr",
     "output_type": "stream",
     "text": [
      "\u001b[33m\n",
      "(!) Some chunks are larger than 500 kBs after minification. Consider:\n",
      "- Using dynamic import() to code-split the application\n",
      "- Use build.rollupOptions.output.manualChunks to improve chunking: https://rollupjs.org/configuration-options/#output-manualchunks\n",
      "- Adjust chunk size limit for this warning via build.chunkSizeWarningLimit.\u001b[39m\n"
     ]
    },
    {
     "name": "stdout",
     "output_type": "stream",
     "text": [
      "\u001b[32m✓ built in 11.52s\u001b[39m\n",
      "\u001b[2K\u001b[1GDone in 12.29s.\n",
      "Copying to Sever Public\n",
      "Installing collector dependencies\n",
      "\u001b[2K\u001b[1G\u001b[1myarn install v1.22.19\u001b[22m\n",
      "\u001b[2K\u001b[1G\u001b[2m[1/5]\u001b[22m Validating package.json...\n",
      "\u001b[2K\u001b[1G\u001b[2m[2/5]\u001b[22m Resolving packages...\n",
      "\u001b[2K\u001b[1G\u001b[2m[3/5]\u001b[22m Fetching packages...\n",
      "\u001b[2K\u001b[1G\u001b[2m[4/5]\u001b[22m Linking dependencies...\n",
      "\u001b[2K\u001b[1G\u001b[2m[5/5]\u001b[22m Building fresh packages...\n",
      "\u001b[2K\u001b[1GDone in 8.38s.\n",
      "Installing server dependencies & running migrations\n",
      "\u001b[2K\u001b[1G\u001b[1myarn install v1.22.19\u001b[22m\n",
      "\u001b[2K\u001b[1G\u001b[2m[1/5]\u001b[22m Validating package.json...\n",
      "\u001b[2K\u001b[1G\u001b[2m[2/5]\u001b[22m Resolving packages...\n",
      "\u001b[2K\u001b[1G\u001b[2m[3/5]\u001b[22m Fetching packages...\n"
     ]
    },
    {
     "name": "stderr",
     "output_type": "stream",
     "text": [
      "\u001b[2K\u001b[1G\u001b[33mwarning\u001b[39m @qdrant/js-client-rest@1.4.0: The engine \"pnpm\" appears to be invalid.\n",
      "\u001b[2K\u001b[1G\u001b[33mwarning\u001b[39m @qdrant/openapi-typescript-fetch@1.2.1: The engine \"pnpm\" appears to be invalid.\n"
     ]
    },
    {
     "name": "stdout",
     "output_type": "stream",
     "text": [
      "\u001b[2K\u001b[1G\u001b[2m[4/5]\u001b[22m Linking dependencies...\n"
     ]
    },
    {
     "name": "stderr",
     "output_type": "stream",
     "text": [
      "\u001b[2K\u001b[1G\u001b[33mwarning\u001b[39m \" > @qdrant/js-client-rest@1.4.0\" has unmet peer dependency \"typescript@>=4.1\".\n"
     ]
    },
    {
     "name": "stdout",
     "output_type": "stream",
     "text": [
      "\u001b[2K\u001b[1G\u001b[2m[5/5]\u001b[22m Building fresh packages...\n"
     ]
    },
    {
     "name": "stderr",
     "output_type": "stream",
     "text": [
      "\u001b[2K\u001b[1G\u001b[33mwarning\u001b[39m @datastax/astra-db-ts@0.1.3: Unable to read \"bin\" directory of module \"@datastax/astra-db-ts\"\n"
     ]
    },
    {
     "name": "stdout",
     "output_type": "stream",
     "text": [
      "\u001b[2K\u001b[1G\u001b[32msuccess\u001b[39m Saved lockfile.\n",
      "\u001b[2K\u001b[1GDone in 11.71s.\n",
      "\u001b[2mPrisma schema loaded from prisma/schema.prisma\u001b[22m\n",
      "\u001b[2mDatasource \"db\": SQLite database \"anythingllm.db\" at \"file:../storage/anythingllm.db\"\u001b[22m\n",
      "\n",
      "SQLite database anythingllm.db created at \u001b[1mfile:../storage/anythingllm.db\u001b[22m\n",
      "\n",
      "11 migrations found in prisma/migrations\n",
      "\n",
      "Applying migration `20230921191814_init`\n",
      "Applying migration `20231101001441_init`\n",
      "Applying migration `20231101195421_init`\n",
      "Applying migration `20231129012019_add`\n",
      "Applying migration `20240113013409_init`\n",
      "Applying migration `20240118201333_init`\n",
      "Applying migration `20240202002020_init`\n",
      "Applying migration `20240206181106_init`\n",
      "Applying migration `20240206211916_init`\n",
      "Applying migration `20240208224848_init`\n",
      "Applying migration `20240210004405_init`\n",
      "\n",
      "The following migrations have been applied:\n",
      "\n",
      "migrations/\n",
      "  └─ 20230921191814_\u001b[36m\u001b[1minit\u001b[22m\u001b[39m/\n",
      "    └─ migration.sql\n",
      "  └─ 20231101001441_\u001b[36m\u001b[1minit\u001b[22m\u001b[39m/\n",
      "    └─ migration.sql\n",
      "  └─ 20231101195421_\u001b[36m\u001b[1minit\u001b[22m\u001b[39m/\n",
      "    └─ migration.sql\n",
      "  └─ 20231129012019_\u001b[36m\u001b[1madd\u001b[22m\u001b[39m/\n",
      "    └─ migration.sql\n",
      "  └─ 20240113013409_\u001b[36m\u001b[1minit\u001b[22m\u001b[39m/\n",
      "    └─ migration.sql\n",
      "  └─ 20240118201333_\u001b[36m\u001b[1minit\u001b[22m\u001b[39m/\n",
      "    └─ migration.sql\n",
      "  └─ 20240202002020_\u001b[36m\u001b[1minit\u001b[22m\u001b[39m/\n",
      "    └─ migration.sql\n",
      "  └─ 20240206181106_\u001b[36m\u001b[1minit\u001b[22m\u001b[39m/\n",
      "    └─ migration.sql\n",
      "  └─ 20240206211916_\u001b[36m\u001b[1minit\u001b[22m\u001b[39m/\n",
      "    └─ migration.sql\n",
      "  └─ 20240208224848_\u001b[36m\u001b[1minit\u001b[22m\u001b[39m/\n",
      "    └─ migration.sql\n",
      "  └─ 20240210004405_\u001b[36m\u001b[1minit\u001b[22m\u001b[39m/\n",
      "    └─ migration.sql\n",
      "      \n",
      "\u001b[32mAll migrations have been successfully applied.\u001b[39m\n",
      "\u001b[2mPrisma schema loaded from prisma/schema.prisma\u001b[22m\n",
      "\n",
      "✔ Generated \u001b[1mPrisma Client\u001b[22m (v5.3.1)\u001b[2m to ./node_modules/@prisma/client\u001b[22m in 198ms\n",
      "\n",
      "Start using Prisma Client in Node.js (See: \u001b[4mhttps://pris.ly/d/client\u001b[24m)\n",
      "\u001b[2m```\u001b[22m\n",
      "\u001b[36mimport\u001b[39m \u001b[34m{\u001b[39m PrismaClient \u001b[34m}\u001b[39m \u001b[36mfrom\u001b[39m \u001b[1m\u001b[32m'@prisma/client'\u001b[39m\u001b[22m\n",
      "\u001b[36mconst\u001b[39m prisma = \u001b[36mnew\u001b[39m PrismaClient\u001b[34m(\u001b[39m\u001b[34m)\u001b[39m\n",
      "\u001b[2m```\u001b[22m\n",
      "or start using Prisma Client at the edge (See: \u001b[4mhttps://pris.ly/d/accelerate\u001b[24m)\n",
      "\u001b[2m```\u001b[22m\n",
      "\u001b[36mimport\u001b[39m \u001b[34m{\u001b[39m PrismaClient \u001b[34m}\u001b[39m \u001b[36mfrom\u001b[39m \u001b[1m\u001b[32m'@prisma/client/edge'\u001b[39m\u001b[22m\n",
      "\u001b[36mconst\u001b[39m prisma = \u001b[36mnew\u001b[39m PrismaClient\u001b[34m(\u001b[39m\u001b[34m)\u001b[39m\n",
      "\u001b[2m```\u001b[22m\n",
      "\n",
      "See other ways of importing Prisma Client: \u001b[4mhttp://pris.ly/d/importing-client\u001b[24m\n",
      "\n",
      ".env\n"
     ]
    }
   ],
   "source": [
    "%%bash\n",
    "ml libs/singularity/3.10.2\n",
    "singularity exec -B /work /work/u00cjz00/nvidia/node_hydrogen-bullseye.sif ./demo.script"
   ]
  },
  {
   "cell_type": "markdown",
   "id": "bcbdc9d2-beff-4135-b2c3-20c66a18bcb8",
   "metadata": {},
   "source": [
    "## 啟動  anything-llm"
   ]
  },
  {
   "cell_type": "code",
   "execution_count": 28,
   "id": "3b6dfd87-d56d-4b88-af42-7d0869a413cc",
   "metadata": {
    "tags": []
   },
   "outputs": [],
   "source": [
    "%%bash\n",
    "ml libs/singularity/3.10.2\n",
    "export SINGULARITYENV_STORAGE_DIR=\"/app/server/storage\"\n",
    "nohup singularity run -B anything-llm:/app /work/u00cjz00/nvidia/anythingllm_latest.sif > ./anything-llm.log 2>&1 &"
   ]
  },
  {
   "cell_type": "code",
   "execution_count": 32,
   "id": "0f34316c-4f0b-4295-a908-f5df2b649385",
   "metadata": {
    "tags": []
   },
   "outputs": [
    {
     "name": "stdout",
     "output_type": "stream",
     "text": [
      "node       62388 g00cjz00   18u  IPv6 301598461      0t0  TCP *:8888 (LISTEN)\n",
      "node       62534 g00cjz00   19u  IPv6 301550153      0t0  TCP *:3001 (LISTEN)\n"
     ]
    }
   ],
   "source": [
    "!/usr/sbin/lsof -i -P -n |grep node"
   ]
  },
  {
   "cell_type": "markdown",
   "id": "6ad76514-5355-425e-a78e-78b3d43b7ef6",
   "metadata": {
    "tags": []
   },
   "source": [
    "## 連線"
   ]
  },
  {
   "cell_type": "code",
   "execution_count": 33,
   "id": "495569a1-012b-4f2d-aede-34acb4bc1173",
   "metadata": {
    "tags": []
   },
   "outputs": [
    {
     "name": "stdout",
     "output_type": "stream",
     "text": [
      "SSH:\n",
      "ssh -o StrictHostKeyChecking=no -o TCPKeepAlive=yes -o ServerAliveCountMax=20 -o ServerAliveInterval=15 -NfL 3001:gpn3002:3001 g00cjz00@t3-c4.nchc.org.tw\n",
      "\n",
      "SSH:\n",
      "ssh -L 3001:gpn3002:3001 g00cjz00@t3-c4.nchc.org.tw\n",
      "\n",
      "URL: http://localhost:3001\n",
      "\n"
     ]
    }
   ],
   "source": [
    "%%bash\n",
    "node_hostname=$(hostname -s)\n",
    "node_ip=$(cat /etc/hosts |grep \"$(hostname -a)\" | awk '{print $1}')\n",
    "# PORT\n",
    "noed_port_genai=$(python -c \"import socket; s = socket.socket(socket.AF_INET, socket.SOCK_STREAM); s.bind(('', 0)); addr = s.getsockname(); s.close(); print(addr[1])\")\n",
    "noed_port_genai=3001\n",
    "\n",
    "# PROXY\n",
    "proxy_url=/rstudio/${node_ip}/${noed_port_genai}\n",
    "# URL\n",
    "https_url=https://node01.biobank.org.tw${proxy_url}/\n",
    "\n",
    "# SSH FORWARDING\n",
    "ssh_cmd=\"ssh -o StrictHostKeyChecking=no -o TCPKeepAlive=yes -o ServerAliveCountMax=20 -o ServerAliveInterval=15 -NfL ${noed_port_genai}:${node_hostname}:${noed_port_genai} $(whoami)@t3-c4.nchc.org.tw\"; \n",
    "echo \"SSH:\"\n",
    "echo ${ssh_cmd}\n",
    "echo \"\"\n",
    "ssh_cmd=\"ssh -L ${noed_port_genai}:${node_hostname}:${noed_port_genai} $(whoami)@t3-c4.nchc.org.tw\"\n",
    "echo \"SSH:\"\n",
    "echo ${ssh_cmd}\n",
    "echo \"\"\n",
    "echo \"URL: http://localhost:${noed_port_genai}\"\n",
    "echo \"\""
   ]
  },
  {
   "cell_type": "markdown",
   "id": "c1ebb58f-3c56-4698-b02d-a742c0387ab9",
   "metadata": {},
   "source": [
    "## DELETE JOB"
   ]
  },
  {
   "cell_type": "code",
   "execution_count": 34,
   "id": "316e62f0-2b69-44a4-ac17-8e3a058c7809",
   "metadata": {
    "tags": []
   },
   "outputs": [
    {
     "name": "stdout",
     "output_type": "stream",
     "text": [
      "kill: sending signal to 7340 failed: Operation not permitted\n",
      "kill: sending signal to 8598 failed: Operation not permitted\n",
      "kill: sending signal to 64189 failed: No such process\n"
     ]
    }
   ],
   "source": [
    "!ps -ef |grep node | awk '{print $2}' | xargs kill -9"
   ]
  },
  {
   "cell_type": "code",
   "execution_count": null,
   "id": "114d16a9-636e-4f16-8465-28b176f02f15",
   "metadata": {},
   "outputs": [],
   "source": []
  }
 ],
 "metadata": {
  "kernelspec": {
   "display_name": "Python 3 (ipykernel)",
   "language": "python",
   "name": "python3"
  },
  "language_info": {
   "codemirror_mode": {
    "name": "ipython",
    "version": 3
   },
   "file_extension": ".py",
   "mimetype": "text/x-python",
   "name": "python",
   "nbconvert_exporter": "python",
   "pygments_lexer": "ipython3",
   "version": "3.8.16"
  }
 },
 "nbformat": 4,
 "nbformat_minor": 5
}
