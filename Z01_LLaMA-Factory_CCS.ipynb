{
 "cells": [
  {
   "cell_type": "markdown",
   "metadata": {
    "id": "ORCx8i1o1ZK9",
    "tags": []
   },
   "source": [
    "# LLaMA_Factory (Colab)"
   ]
  },
  {
   "cell_type": "markdown",
   "metadata": {
    "id": "PAnZLFDg1ZLC"
   },
   "source": [
    "## 初始環境設定"
   ]
  },
  {
   "cell_type": "code",
   "execution_count": null,
   "metadata": {
    "id": "3UgaDyzu1ZLD"
   },
   "outputs": [],
   "source": [
    "# 初始環境設定\n",
    "import os\n",
    "from pathlib import Path\n",
    "HOME = str(Path.home())\n",
    "Add_Binarry_Path=HOME+'/.local/bin:/usr/ubuntu_bin'\n",
    "os.environ['PATH']=os.environ['PATH']+':'+Add_Binarry_Path"
   ]
  },
  {
   "cell_type": "markdown",
   "metadata": {
    "id": "z0dGdgGD1ZLF"
   },
   "source": [
    "## 確認CUDA版本, 以及否能使用GPU\n",
    "若無gpu 請點選右側->已連線->變更執行階段類型->T4 Gpu"
   ]
  },
  {
   "cell_type": "code",
   "execution_count": null,
   "metadata": {
    "id": "xuM2aF8F1ZLG"
   },
   "outputs": [],
   "source": [
    "!nvidia-smi\n",
    "import torch\n",
    "torch.cuda.is_available()"
   ]
  },
  {
   "cell_type": "markdown",
   "metadata": {
    "id": "M3Wt3onj1ZLH"
   },
   "source": [
    "## 安裝套件"
   ]
  },
  {
   "cell_type": "code",
   "execution_count": null,
   "metadata": {
    "id": "Y6VqOoP71ZLI"
   },
   "outputs": [],
   "source": [
    "%%bash\n",
    "rm -rf LLaMA-Factory\n",
    "git clone https://github.com/hiyouga/LLaMA-Factory.git\n",
    "cd ./LLaMA-Factory\n",
    "pip install -r requirements.txt -q\n",
    "pip install bitsandbytes==0.42.0 -q"
   ]
  },
  {
   "cell_type": "markdown",
   "metadata": {
    "id": "YzSyHE8B1ZLI"
   },
   "source": [
    "## 撰寫程式碼"
   ]
  },
  {
   "cell_type": "code",
   "execution_count": null,
   "metadata": {
    "id": "qHey8AHr1ZLJ"
   },
   "outputs": [],
   "source": [
    "%%bash\n",
    "#METHOD 05 ds_config.json\n",
    "cat << EOF >  LLaMA-Factory/src/train_web_demo.py\n",
    "from llmtuner import create_ui\n",
    "\n",
    "\n",
    "def main():\n",
    "    demo = create_ui()\n",
    "    demo.queue()\n",
    "    demo.launch(server_port=5000, server_name=\"0.0.0.0\", share=True, inbrowser=True)\n",
    "\n",
    "\n",
    "if __name__ == \"__main__\":\n",
    "    main()\n",
    "EOF"
   ]
  },
  {
   "cell_type": "markdown",
   "metadata": {
    "id": "LZqt2QBg1ZLK"
   },
   "source": [
    "## 開啟WebUI\n",
    "請更新以下 HF_TOKEN"
   ]
  },
  {
   "cell_type": "code",
   "execution_count": null,
   "metadata": {
    "id": "yiFJX0-d6thC",
    "tags": []
   },
   "outputs": [],
   "source": [
    "!cd LLaMA-Factory; CUDA_VISIBLE_DEVICES=0 python src/train_web_demo.py"
   ]
  },
  {
   "cell_type": "markdown",
   "metadata": {
    "id": "I11rZlhctzd9"
   },
   "source": [
    "# 上傳輸出的檔案到 HuggingFace"
   ]
  },
  {
   "cell_type": "code",
   "execution_count": null,
   "metadata": {
    "id": "Rte6fcaejOsC"
   },
   "outputs": [],
   "source": [
    "!pip install huggingface_hub"
   ]
  },
  {
   "cell_type": "markdown",
   "metadata": {
    "id": "7hJ7hkH21ZLL"
   },
   "source": [
    "## 使用API Token登入"
   ]
  },
  {
   "cell_type": "code",
   "execution_count": null,
   "metadata": {
    "id": "TRbS8HBWTZpu"
   },
   "outputs": [],
   "source": [
    "from huggingface_hub import notebook_login\n",
    "\n",
    "notebook_login()"
   ]
  },
  {
   "cell_type": "markdown",
   "metadata": {
    "id": "Zj-P4LS21ZLL"
   },
   "source": [
    "## 上傳模型\n",
    "執行本儲存格後填入 API Token(需要有 Write 權限)，然後按下登入"
   ]
  },
  {
   "cell_type": "code",
   "execution_count": null,
   "metadata": {
    "id": "Xd7sv-ZvT4KB"
   },
   "outputs": [],
   "source": [
    "from huggingface_hub import HfApi\n",
    "api = HfApi()\n",
    "\n",
    "model_id = \"username/fine-tune-model\" #@param {type:\"string\"}\n",
    "export_folder_path = \"/content/LLaMA-Factory/export\" #@param {type:\"string\"}\n",
    "api.create_repo(model_id, private=True, exist_ok=True, repo_type=\"model\")\n",
    "api.upload_folder(\n",
    "    folder_path=export_folder_path,\n",
    "    repo_id=model_id,\n",
    ")"
   ]
  },
  {
   "cell_type": "markdown",
   "metadata": {
    "id": "I7VH8k-s0G71"
   },
   "source": [
    "## 保存到Google Drive"
   ]
  },
  {
   "cell_type": "code",
   "execution_count": null,
   "metadata": {
    "id": "2StL2Wqt0MAt"
   },
   "outputs": [],
   "source": [
    "# 連接Google Drive\n",
    "from google.colab import drive\n",
    "drive.mount('/content/drive')"
   ]
  },
  {
   "cell_type": "code",
   "execution_count": null,
   "metadata": {
    "id": "72nLh_L50g74"
   },
   "outputs": [],
   "source": [
    "## 複製檔案到Google Drive\n",
    "Google_Drive_Folder = \"/content/drive/MyDrive/LLaMA-Factory/\"\n",
    "!cp -rf /content/LLaMA-Factory/saves {Google_Drive_Folder}"
   ]
  }
 ],
 "metadata": {
  "accelerator": "GPU",
  "colab": {
   "provenance": []
  },
  "kernelspec": {
   "display_name": "Python 3 (ipykernel)",
   "language": "python",
   "name": "python3"
  },
  "language_info": {
   "codemirror_mode": {
    "name": "ipython",
    "version": 3
   },
   "file_extension": ".py",
   "mimetype": "text/x-python",
   "name": "python",
   "nbconvert_exporter": "python",
   "pygments_lexer": "ipython3",
   "version": "3.10.12"
  }
 },
 "nbformat": 4,
 "nbformat_minor": 4
}
