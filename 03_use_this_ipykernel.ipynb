{
 "cells": [
  {
   "cell_type": "markdown",
   "id": "4d91d821-0a9e-4ed7-b2cb-06cea76dbffc",
   "metadata": {},
   "source": [
    "## 03_use_this_ipykernel.ipynb\n",
    "#### <span style=\"color:red\">Change to your image kernel:   Image_S_XXXXXXXXXXl</span>."
   ]
  },
  {
   "cell_type": "code",
   "execution_count": null,
   "id": "a7853d6c-fa59-41fd-b482-a41f26166aab",
   "metadata": {
    "tags": []
   },
   "outputs": [],
   "source": [
    "# 初始環境設定\n",
    "import os\n",
    "from pathlib import Path\n",
    "HOME = str(Path.home())\n",
    "Add_Binarry_Path=HOME+'/.local/bin:/usr/ubuntu_bin'\n",
    "os.environ['PATH']=os.environ['PATH']+':'+Add_Binarry_Path"
   ]
  },
  {
   "cell_type": "code",
   "execution_count": null,
   "id": "8e268d99-b621-4f7a-8956-13b9e9050a48",
   "metadata": {},
   "outputs": [],
   "source": []
  }
 ],
 "metadata": {
  "kernelspec": {
   "display_name": "Python 3 (ipykernel)",
   "language": "python",
   "name": "python3"
  },
  "language_info": {
   "codemirror_mode": {
    "name": "ipython",
    "version": 3
   },
   "file_extension": ".py",
   "mimetype": "text/x-python",
   "name": "python",
   "nbconvert_exporter": "python",
   "pygments_lexer": "ipython3",
   "version": "3.10.13"
  }
 },
 "nbformat": 4,
 "nbformat_minor": 5
}
