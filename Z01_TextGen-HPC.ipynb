{
 "cells": [
  {
   "cell_type": "markdown",
   "metadata": {
    "id": "e0PlUF-R2rmx"
   },
   "source": [
    "# oobabooga/text-generation-webui\n",
    "1. docker pull c00cjz00/pytorch:2.1.0-cuda11.8-cudnn8-runtime_textgen\n",
    "2. 01_create_image_ipykernel.ipynb"
   ]
  },
  {
   "cell_type": "code",
   "execution_count": null,
   "metadata": {
    "tags": []
   },
   "outputs": [],
   "source": [
    "# 初始環境設定\n",
    "import os\n",
    "from pathlib import Path\n",
    "HOME = str(Path.home())\n",
    "Add_Binarry_Path=HOME+'/.local/bin:/usr/ubuntu_bin'\n",
    "os.environ['PATH']=os.environ['PATH']+':'+Add_Binarry_Path\n",
    "current_foldr=!pwd\n",
    "current_foldr=current_foldr[0]\n",
    "current_foldr"
   ]
  },
  {
   "cell_type": "markdown",
   "metadata": {},
   "source": [
    "### 安裝 library"
   ]
  },
  {
   "cell_type": "code",
   "execution_count": null,
   "metadata": {
    "tags": []
   },
   "outputs": [],
   "source": [
    "pip install rich -q"
   ]
  },
  {
   "cell_type": "raw",
   "metadata": {},
   "source": [
    "!rm -rf text-generation-webui\n",
    "!rm -rf /tmp/*"
   ]
  },
  {
   "cell_type": "markdown",
   "metadata": {},
   "source": [
    "## 主程式 \n",
    "1. 請修改 倒數第五行 password=\"nchc:nchcorgtw\" "
   ]
  },
  {
   "cell_type": "code",
   "execution_count": null,
   "metadata": {
    "tags": []
   },
   "outputs": [],
   "source": [
    "%%bash\n",
    "#  DOWNLOAD text-generation-webui, install requirements.txt and execute this service \n",
    "\n",
    "REPOSRC=https://github.com/oobabooga/text-generation-webui.git\n",
    "LOCALREPO=text-generation-webui\n",
    "BRANCH=\"snapshot-2023-12-10\"\n",
    "# We do it this way so that we can abstract if from just git later on\n",
    "LOCALREPO_VC_DIR=$LOCALREPO/.git\n",
    "\n",
    "if [ ! -d $LOCALREPO_VC_DIR ]\n",
    "then\n",
    "    git clone --branch $BRANCH $REPOSRC $LOCALREPO\n",
    "\n",
    "    # It does not need to pip with this IMAGE\n",
    "    #!pip install -r text-generation-webui/temp_requirements.txt -q \n",
    "\n",
    "    # Prepare\n",
    "    cp ./textgen/config-user.yaml ./text-generation-webui/models/config-user.yaml\n",
    "    cp ./textgen/server_nchc.py ./text-generation-webui/server_nchc.py\n",
    "    cd ./text-generation-webui/models\n",
    "    ln -s /work/u00cjz00/slurm_jobs/github/models/Taiwan-LLM-7B-v2.1-chat-Q8_0.gguf .\n",
    "    ln -s /work/u00cjz00/slurm_jobs/github/models/Llama-2-7b-chat-hf .\n",
    "    ln -s /work/u00cjz00/slurm_jobs/github/models/Llama-2-7B-Chat-GPTQ .\n",
    "    cd ../../\n",
    "    cd ./text-generation-webui/training/datasets\n",
    "    ln -s /work/u00cjz00/slurm_jobs/github/dataset/school_math_1000.json .\n",
    "    ln -s /work/u00cjz00/slurm_jobs/github/dataset/school_math_30000.json .\n",
    "    cd ../../../\n",
    "    cd ./text-generation-webui/loras\n",
    "    ln -s /work/u00cjz00/slurm_jobs/github/loras/math .\n",
    "    cd ../../\n",
    "    \n",
    "fi \n",
    "\n",
    "# GET IP and Free Port\n",
    "# IP\n",
    "node_ip=$(cat /etc/hosts |grep \"$(hostname -a)\" | awk '{print $1}')\n",
    "# PORT\n",
    "noed_port_genai=$(python -c \"import socket; s = socket.socket(socket.AF_INET, socket.SOCK_STREAM); s.bind(('', 0)); addr = s.getsockname(); s.close(); print(addr[1])\")\n",
    "noed_port_genai=44727\n",
    "# PROXY\n",
    "proxy_url=/rstudio/${node_ip}/${noed_port_genai}\n",
    "# URL\n",
    "https_url=https://node01.biobank.org.tw${proxy_url}/\n",
    "echo $https_url\n",
    "\n",
    "# 強制刪除運行中服務\n",
    "ps -ef |grep server.py | awk '{print $2}' | xargs kill -9\n",
    "\n",
    "# EXPORT PATH for ~/.local\n",
    "export PATH=$PATH:$HOME/.local/bin\n",
    "\n",
    "# 主程式\n",
    "password=\"nchc:nchcorgtw\"\n",
    "cd text-generation-webui\n",
    "\n",
    "HF_TOKEN='hf_xxxxx' python server_nchc.py  --listen --listen-port ${noed_port_genai} --listen-host $(hostname -s) \\\n",
    "--chat-buttons --ssl-keyfile ${proxy_url} --gradio-auth ${password} --extensions Training_PRO\n",
    "\n",
    "#HF_TOKEN='hf_xxxxx' python server.py --listen --listen-port ${noed_port_genai} --listen-host $(hostname -s) \\\n",
    "#--chat-buttons --gradio-auth ${password} --extensions Training_PRO"
   ]
  },
  {
   "cell_type": "code",
   "execution_count": null,
   "metadata": {},
   "outputs": [],
   "source": [
    "# 強制刪除服務\n",
    "!ps -ef |grep server.py | awk '{print $2}' | xargs kill -9"
   ]
  },
  {
   "cell_type": "code",
   "execution_count": null,
   "metadata": {},
   "outputs": [],
   "source": []
  }
 ],
 "metadata": {
  "accelerator": "GPU",
  "colab": {
   "provenance": []
  },
  "kernelspec": {
   "display_name": "Image_S_work-genai3_pytorch_2.1.0-cuda11.8-cudnn8-runtime_textgen",
   "language": "python",
   "name": "s_work-genai3_pytorch_2.1.0-cuda11.8-cudnn8-runtime_textgen"
  },
  "language_info": {
   "codemirror_mode": {
    "name": "ipython",
    "version": 3
   },
   "file_extension": ".py",
   "mimetype": "text/x-python",
   "name": "python",
   "nbconvert_exporter": "python",
   "pygments_lexer": "ipython3",
   "version": "3.10.13"
  }
 },
 "nbformat": 4,
 "nbformat_minor": 4
}
