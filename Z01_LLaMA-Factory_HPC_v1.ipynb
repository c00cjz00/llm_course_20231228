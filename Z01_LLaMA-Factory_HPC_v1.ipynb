{
 "cells": [
  {
   "cell_type": "markdown",
   "metadata": {
    "id": "ORCx8i1o1ZK9",
    "tags": []
   },
   "source": [
    "# LLaMA_Factory (HPC)"
   ]
  },
  {
   "cell_type": "markdown",
   "metadata": {
    "id": "PAnZLFDg1ZLC"
   },
   "source": [
    "## 初始環境設定, 切換到 kernel pytorch_2.1.0-cuda11.8-cudnn8-devel.sif"
   ]
  },
  {
   "cell_type": "code",
   "execution_count": null,
   "metadata": {
    "id": "3UgaDyzu1ZLD"
   },
   "outputs": [],
   "source": [
    "# 初始環境設定\n",
    "import os\n",
    "from pathlib import Path\n",
    "HOME = str(Path.home())\n",
    "Add_Binarry_Path=HOME+'/.local/bin:/usr/ubuntu_bin'\n",
    "os.environ['PATH']=os.environ['PATH']+':'+Add_Binarry_Path"
   ]
  },
  {
   "cell_type": "markdown",
   "metadata": {
    "id": "z0dGdgGD1ZLF"
   },
   "source": [
    "## 確認CUDA版本, 以及否能使用GPU"
   ]
  },
  {
   "cell_type": "code",
   "execution_count": null,
   "metadata": {
    "id": "xuM2aF8F1ZLG"
   },
   "outputs": [],
   "source": [
    "!nvidia-smi\n",
    "import torch\n",
    "torch.cuda.is_available()"
   ]
  },
  {
   "cell_type": "markdown",
   "metadata": {},
   "source": [
    "## 可能需要切換到原生 python3 kernel"
   ]
  },
  {
   "cell_type": "code",
   "execution_count": null,
   "metadata": {
    "tags": []
   },
   "outputs": [],
   "source": [
    "%%bash\n",
    "rm -rf LLaMA-Factory\n",
    "git clone https://github.com/hiyouga/LLaMA-Factory.git"
   ]
  },
  {
   "cell_type": "markdown",
   "metadata": {
    "id": "M3Wt3onj1ZLH"
   },
   "source": [
    "## 安裝套件, 切換到 kernel pytorch_2.1.0-cuda11.8-cudnn8-devel.sif"
   ]
  },
  {
   "cell_type": "code",
   "execution_count": null,
   "metadata": {
    "id": "Y6VqOoP71ZLI"
   },
   "outputs": [],
   "source": [
    "%%bash\n",
    "#rm -rf LLaMA-Factory\n",
    "#git clone https://github.com/hiyouga/LLaMA-Factory.git\n",
    "cd ./LLaMA-Factory\n",
    "pip install -r requirements.txt -q\n",
    "pip install bitsandbytes==0.42.0 -q"
   ]
  },
  {
   "cell_type": "markdown",
   "metadata": {
    "id": "YzSyHE8B1ZLI"
   },
   "source": [
    "## 撰寫程式碼"
   ]
  },
  {
   "cell_type": "code",
   "execution_count": null,
   "metadata": {
    "id": "qHey8AHr1ZLJ"
   },
   "outputs": [],
   "source": [
    "%%bash\n",
    "# IP\n",
    "node_ip=$(cat /etc/hosts |grep \"$(hostname -a)\" | awk '{print $1}')\n",
    "# PORT\n",
    "noed_port_genai=$(python -c \"import socket; s = socket.socket(socket.AF_INET, socket.SOCK_STREAM); s.bind(('', 0)); addr = s.getsockname(); s.close(); print(addr[1])\")\n",
    "# PROXY\n",
    "proxy_url=/rstudio/${node_ip}/${noed_port_genai}\n",
    "# URL\n",
    "https_url=https://node01.biobank.org.tw${proxy_url}/\n",
    "\n",
    "# SCRIPT FILE\n",
    "cat << EOF >  LLaMA-Factory/src/train_web_demo.py\n",
    "from llmtuner import create_ui\n",
    "import os\n",
    "os.environ[\"WANDB_DISABLED\"] = \"true\"\n",
    "\n",
    "print(\"${https_url}\")\n",
    "\n",
    "def main():\n",
    "    demo = create_ui()\n",
    "    demo.queue()\n",
    "    demo.launch(server_port=${noed_port_genai}, server_name=\"$(hostname -s)\", share=False, inbrowser=True, root_path=\"${proxy_url}\", auth=(\"nchc\", \"nchcorgtw\"))\n",
    "\n",
    "if __name__ == \"__main__\":\n",
    "    main()\n",
    "EOF"
   ]
  },
  {
   "cell_type": "markdown",
   "metadata": {},
   "source": [
    "## 強制刪除運行中服務"
   ]
  },
  {
   "cell_type": "code",
   "execution_count": null,
   "metadata": {
    "tags": []
   },
   "outputs": [],
   "source": [
    "# 強制刪除運行中服務\n",
    "!ps -ef |grep train_web_demo.py | awk '{print $2}' | xargs kill -9"
   ]
  },
  {
   "cell_type": "markdown",
   "metadata": {
    "id": "LZqt2QBg1ZLK"
   },
   "source": [
    "## 開啟WebUI\n",
    "- model: /work/u00cjz00/slurm_jobs/github/models/Llama-2-7b-chat-hf"
   ]
  },
  {
   "cell_type": "code",
   "execution_count": null,
   "metadata": {},
   "outputs": [],
   "source": [
    "%%bash\n",
    "#請更新以下 HF_TOKEN\n",
    "cd LLaMA-Factory\n",
    "CUDA_VISIBLE_DEVICES=0 HF_TOKEN='hf_xxxxxxxxxxxxxxxxxx' python src/train_web_demo.py"
   ]
  },
  {
   "cell_type": "markdown",
   "metadata": {
    "id": "I11rZlhctzd9"
   },
   "source": [
    "# 上傳輸出的檔案到 HuggingFace"
   ]
  },
  {
   "cell_type": "code",
   "execution_count": null,
   "metadata": {
    "id": "Rte6fcaejOsC"
   },
   "outputs": [],
   "source": [
    "!pip install huggingface_hub"
   ]
  },
  {
   "cell_type": "markdown",
   "metadata": {
    "id": "7hJ7hkH21ZLL"
   },
   "source": [
    "## 使用API Token登入"
   ]
  },
  {
   "cell_type": "code",
   "execution_count": null,
   "metadata": {
    "id": "TRbS8HBWTZpu"
   },
   "outputs": [],
   "source": [
    "from huggingface_hub import notebook_login\n",
    "\n",
    "notebook_login()"
   ]
  },
  {
   "cell_type": "markdown",
   "metadata": {
    "id": "Zj-P4LS21ZLL"
   },
   "source": [
    "## 上傳模型\n",
    "執行本儲存格後填入 API Token(需要有 Write 權限)，然後按下登入"
   ]
  },
  {
   "cell_type": "code",
   "execution_count": null,
   "metadata": {
    "id": "Xd7sv-ZvT4KB"
   },
   "outputs": [],
   "source": [
    "from huggingface_hub import HfApi\n",
    "api = HfApi()\n",
    "\n",
    "model_id = \"username/fine-tune-model\" #@param {type:\"string\"}\n",
    "export_folder_path = \"/content/LLaMA-Factory/export\" #@param {type:\"string\"}\n",
    "api.create_repo(model_id, private=True, exist_ok=True, repo_type=\"model\")\n",
    "api.upload_folder(\n",
    "    folder_path=export_folder_path,\n",
    "    repo_id=model_id,\n",
    ")"
   ]
  }
 ],
 "metadata": {
  "accelerator": "GPU",
  "colab": {
   "provenance": []
  },
  "kernelspec": {
   "display_name": "Image_S_work-genai05_pytorch_2.1.0-cuda11.8-cudnn8-devel",
   "language": "python",
   "name": "s_work-genai05_pytorch_2.1.0-cuda11.8-cudnn8-devel"
  },
  "language_info": {
   "codemirror_mode": {
    "name": "ipython",
    "version": 3
   },
   "file_extension": ".py",
   "mimetype": "text/x-python",
   "name": "python",
   "nbconvert_exporter": "python",
   "pygments_lexer": "ipython3",
   "version": "3.10.13"
  }
 },
 "nbformat": 4,
 "nbformat_minor": 4
}
