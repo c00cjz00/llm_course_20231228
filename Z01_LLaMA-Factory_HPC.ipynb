{
 "cells": [
  {
   "cell_type": "markdown",
   "metadata": {
    "id": "e0PlUF-R2rmx"
   },
   "source": [
    "# LLaMA-Factory-HPC\n",
    "https://github.com/hiyouga/LLaMA-Factory"
   ]
  },
  {
   "cell_type": "code",
   "execution_count": null,
   "metadata": {
    "id": "wt4WBjxNDPYv",
    "tags": []
   },
   "outputs": [],
   "source": [
    "# 初始環境設定\n",
    "import os\n",
    "from pathlib import Path\n",
    "HOME = str(Path.home())\n",
    "Add_Binarry_Path=HOME+'/.local/bin'\n",
    "os.environ['PATH']=os.environ['PATH']+':'+Add_Binarry_Path\n",
    "current_foldr=!pwd\n",
    "current_foldr=current_foldr[0]\n",
    "current_foldr"
   ]
  },
  {
   "cell_type": "markdown",
   "metadata": {
    "id": "ekN2t-3ZDPY2"
   },
   "source": [
    "### 安裝 library"
   ]
  },
  {
   "cell_type": "code",
   "execution_count": null,
   "metadata": {
    "id": "R1fynTyyDaVS",
    "tags": []
   },
   "outputs": [],
   "source": [
    "!git clone https://github.com/hiyouga/LLaMA-Factory.git"
   ]
  },
  {
   "cell_type": "code",
   "execution_count": null,
   "metadata": {
    "id": "ZSmOKURTDmHp",
    "tags": []
   },
   "outputs": [],
   "source": [
    "%cd LLaMA-Factory"
   ]
  },
  {
   "cell_type": "code",
   "execution_count": null,
   "metadata": {
    "id": "LB3wY1f6Dyve",
    "tags": []
   },
   "outputs": [],
   "source": [
    "!pip install -r requirements.txt -q"
   ]
  },
  {
   "cell_type": "code",
   "execution_count": null,
   "metadata": {
    "id": "P3O-Ma-8DPY4",
    "tags": []
   },
   "outputs": [],
   "source": [
    "!pip install bitsandbytes kaleido cohere openai -q"
   ]
  },
  {
   "cell_type": "code",
   "execution_count": null,
   "metadata": {
    "tags": []
   },
   "outputs": [],
   "source": [
    "%%bash\n",
    "#METHOD 05 ds_config.json\n",
    "cat << EOF >  src/train_web_demo.py\n",
    "from llmtuner import create_ui\n",
    "\n",
    "\n",
    "def main():\n",
    "    demo = create_ui()\n",
    "    demo.queue()\n",
    "    demo.launch(server_port=9000, server_name=\"$(hostname -s)\", share=False, inbrowser=True)\n",
    "\n",
    "\n",
    "if __name__ == \"__main__\":\n",
    "    main()\n",
    "EOF\n"
   ]
  },
  {
   "cell_type": "code",
   "execution_count": null,
   "metadata": {
    "id": "ZfIB4iVpE6tG",
    "tags": []
   },
   "outputs": [],
   "source": [
    "%%bash\n",
    "node_hostname=$(hostname -s)\n",
    "node_ip=$(cat /etc/hosts |grep \"$(hostname -a)\" | awk '{print $1}')\n",
    "# PORT\n",
    "#noed_port_genai=$(python -c \"import socket; s = socket.socket(socket.AF_INET, socket.SOCK_STREAM); s.bind(('', 0)); addr = s.getsockname(); s.close(); print(addr[1])\")\n",
    "noed_port_genai=9000\n",
    "\n",
    "# SSH FORWARDING\n",
    "ssh_cmd=\"ssh -L ${noed_port_genai}:${node_hostname}:${noed_port_genai} $(whoami)@t3-c4.nchc.org.tw\"\n",
    "echo \"SSH:\"\n",
    "echo ${ssh_cmd}\n",
    "echo \"\"\n",
    "echo \"URL: http://localhost:${noed_port_genai}\"\n",
    "echo \"\"\n",
    " \n",
    "CUDA_VISIBLE_DEVICES=0 HF_TOKEN='hf_xxxxxxxxxxxxxxxxxxxx' python src/train_web_demo.py"
   ]
  },
  {
   "cell_type": "code",
   "execution_count": null,
   "metadata": {
    "id": "VW94qVT7DPZA",
    "tags": []
   },
   "outputs": [],
   "source": [
    "# 強制刪除服務\n",
    "!ps -ef |grep train_web | awk '{print $2}' | xargs kill -9"
   ]
  },
  {
   "cell_type": "code",
   "execution_count": null,
   "metadata": {},
   "outputs": [],
   "source": []
  }
 ],
 "metadata": {
  "accelerator": "GPU",
  "colab": {
   "provenance": []
  },
  "kernelspec": {
   "display_name": "Image_S_work-genai11_pytorch_2.1.2-cuda11.8-cudnn8-devel_opencv",
   "language": "python",
   "name": "s_work-genai11_pytorch_2.1.2-cuda11.8-cudnn8-devel_opencv"
  },
  "language_info": {
   "codemirror_mode": {
    "name": "ipython",
    "version": 3
   },
   "file_extension": ".py",
   "mimetype": "text/x-python",
   "name": "python",
   "nbconvert_exporter": "python",
   "pygments_lexer": "ipython3",
   "version": "3.10.13"
  }
 },
 "nbformat": 4,
 "nbformat_minor": 4
}
