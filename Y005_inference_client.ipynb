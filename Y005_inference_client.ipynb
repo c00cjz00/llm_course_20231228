{
 "cells": [
  {
   "cell_type": "markdown",
   "id": "98a933f0-343f-49f3-969b-67ef1ee98711",
   "metadata": {},
   "source": [
    "# Inference Client"
   ]
  },
  {
   "cell_type": "code",
   "execution_count": null,
   "id": "c1564a9a-934a-44ca-8d6f-c979dbc21cec",
   "metadata": {},
   "outputs": [],
   "source": [
    "pip install text_generation"
   ]
  },
  {
   "cell_type": "markdown",
   "id": "e107f2c8-543c-46d6-905f-12c2503f06cb",
   "metadata": {},
   "source": [
    "## huggingface_hub"
   ]
  },
  {
   "cell_type": "code",
   "execution_count": 1,
   "id": "18daecd2-e7af-4351-8ed9-b340074c589d",
   "metadata": {
    "tags": []
   },
   "outputs": [
    {
     "name": "stdout",
     "output_type": "stream",
     "text": [
      "Model output: Federated learning is a type of machine learning that allows multiple parties to collaboratively train a model on their collective data without sharing the data itself. Instead, each party trains a local model using their own data and shares the model updates with a central server, which aggregates them to improve the shared model. This approach can help preserve privacy and maintain control over sensitive data while still achieving accurate model training.\n",
      "\n",
      "\n",
      "\n"
     ]
    }
   ],
   "source": [
    "from huggingface_hub import InferenceClient\n",
    "\n",
    "endpoint_url = \"http://gpn3002:30005\"\n",
    "system_message=\"hi\"\n",
    "prompt = \"what is federated learning\"\n",
    "prompt_template=f'''<|im_start|>system\n",
    "{system_message}<|im_end|>\n",
    "<|im_start|>user\n",
    "{prompt}<|im_end|>\n",
    "<|im_start|>assistant\n",
    "'''\n",
    "\n",
    "client = InferenceClient(endpoint_url)\n",
    "response = client.text_generation(\n",
    "  prompt_template,\n",
    "  max_new_tokens=128,\n",
    "  do_sample=True,\n",
    "  temperature=0.7,\n",
    "  top_p=0.95,\n",
    "  top_k=40,\n",
    "  repetition_penalty=1.1\n",
    ")\n",
    "\n",
    "print(f\"Model output: {response}\")"
   ]
  },
  {
   "cell_type": "code",
   "execution_count": null,
   "id": "4368757f-8b59-4dac-a816-275f0d335a68",
   "metadata": {},
   "outputs": [],
   "source": [
    "## langchain"
   ]
  },
  {
   "cell_type": "code",
   "execution_count": 3,
   "id": "765c7c1e-15c5-4aa4-9667-1834dffeaa8d",
   "metadata": {},
   "outputs": [
    {
     "name": "stdout",
     "output_type": "stream",
     "text": [
      "\n",
      "\n",
      "Federated learning is a distributed machine learning approach that enables multiple parties to collaboratively train a shared model on their collective data without sharing the data itself. In this approach, the data remains on the devices or servers of the parties involved, and only the model weights are shared among them. This way, the parties can maintain control over their data and adhere to privacy regulations while still benefiting from the collective knowledge of the data.\n",
      "\n",
      "Federated learning has gained significant attention in recent years due to its potential to address privacy and security concerns in machine learning. It has been applied to various domains such as healthcare, finance, and edge computing. However, it also presents some challenges such as communication overhead, bias in the model, and the need for careful curation of the data.\n",
      "\n",
      "In this answer, we will explore the concept of federated learning, its benefits and challenges, and some of the applications it has been used in. We will also discuss some of the open research directions in this field.\n",
      "\n",
      "Benefits of Federated Learning:\n",
      "\n",
      "1. Privacy and Security: Federated learning allows parties to maintain control over their data and adhere to privacy regulations.\n",
      "2. Data Ownership: Parties can retain ownership of their data, which is essential in industries where data is a valuable asset.\n",
      "3. Scalability: Federated learning can handle large amounts of data from multiple sources, making it a scalable solution.\n",
      "4. Cost-Effective: Federated learning can reduce the cost of training machine learning models by avoiding the need to share data.\n",
      "\n",
      "Challenges of Federated Learning:\n",
      "\n",
      "1. Communication Overhead: Communication between parties can be time-consuming and costly, especially when dealing with large datasets.\n",
      "2. Bias in the Model: The model may be biased towards the party that has more data or influence in the federation.\n",
      "3. Data Quality: The quality of the data can vary across parties, which can affect the accuracy of the model.\n",
      "4. Curation of Data: Careful curation of the data is necessary to ensure that the data is relevant and useful for training the model.\n",
      "\n",
      "Applications of Federated Learning:\n",
      "\n",
      "1. Healthcare: Federated learning has been used in healthcare to train models on medical data without sharing the data itself.\n",
      "2. Finance: Federated"
     ]
    },
    {
     "data": {
      "text/plain": [
       "'\\n\\nFederated learning is a distributed machine learning approach that enables multiple parties to collaboratively train a shared model on their collective data without sharing the data itself. In this approach, the data remains on the devices or servers of the parties involved, and only the model weights are shared among them. This way, the parties can maintain control over their data and adhere to privacy regulations while still benefiting from the collective knowledge of the data.\\n\\nFederated learning has gained significant attention in recent years due to its potential to address privacy and security concerns in machine learning. It has been applied to various domains such as healthcare, finance, and edge computing. However, it also presents some challenges such as communication overhead, bias in the model, and the need for careful curation of the data.\\n\\nIn this answer, we will explore the concept of federated learning, its benefits and challenges, and some of the applications it has been used in. We will also discuss some of the open research directions in this field.\\n\\nBenefits of Federated Learning:\\n\\n1. Privacy and Security: Federated learning allows parties to maintain control over their data and adhere to privacy regulations.\\n2. Data Ownership: Parties can retain ownership of their data, which is essential in industries where data is a valuable asset.\\n3. Scalability: Federated learning can handle large amounts of data from multiple sources, making it a scalable solution.\\n4. Cost-Effective: Federated learning can reduce the cost of training machine learning models by avoiding the need to share data.\\n\\nChallenges of Federated Learning:\\n\\n1. Communication Overhead: Communication between parties can be time-consuming and costly, especially when dealing with large datasets.\\n2. Bias in the Model: The model may be biased towards the party that has more data or influence in the federation.\\n3. Data Quality: The quality of the data can vary across parties, which can affect the accuracy of the model.\\n4. Curation of Data: Careful curation of the data is necessary to ensure that the data is relevant and useful for training the model.\\n\\nApplications of Federated Learning:\\n\\n1. Healthcare: Federated learning has been used in healthcare to train models on medical data without sharing the data itself.\\n2. Finance: Federated'"
      ]
     },
     "execution_count": 3,
     "metadata": {},
     "output_type": "execute_result"
    }
   ],
   "source": [
    "from langchain.llms import HuggingFaceTextGenInference\n",
    "from langchain.callbacks.streaming_stdout import StreamingStdOutCallbackHandler\n",
    "\n",
    "llm = HuggingFaceTextGenInference(\n",
    "    inference_server_url=\"http://gpn3002:30005\",\n",
    "    max_new_tokens=512,\n",
    "    top_k=10,\n",
    "    top_p=0.95,\n",
    "    typical_p=0.95,\n",
    "    temperature=0.01,\n",
    "    repetition_penalty=1.03,\n",
    "    streaming=True  # Use 'streaming' instead of 'stream'\n",
    ")\n",
    "llm(\"what is federated learning?\", callbacks=[StreamingStdOutCallbackHandler()])"
   ]
  },
  {
   "cell_type": "code",
   "execution_count": null,
   "id": "6a3cadee-f5a8-407c-b269-f264d5bb7bc9",
   "metadata": {
    "tags": []
   },
   "outputs": [],
   "source": []
  },
  {
   "cell_type": "code",
   "execution_count": null,
   "id": "c448e4d5-eec6-4ce7-a9d4-11ad14a1796a",
   "metadata": {},
   "outputs": [],
   "source": []
  }
 ],
 "metadata": {
  "kernelspec": {
   "display_name": "Image_S_work-media-tek_pytorch_2.1.2-cuda11.8-cudnn8-devel_opencv",
   "language": "python",
   "name": "s_work-media-tek_pytorch_2.1.2-cuda11.8-cudnn8-devel_opencv"
  },
  "language_info": {
   "codemirror_mode": {
    "name": "ipython",
    "version": 3
   },
   "file_extension": ".py",
   "mimetype": "text/x-python",
   "name": "python",
   "nbconvert_exporter": "python",
   "pygments_lexer": "ipython3",
   "version": "3.10.13"
  }
 },
 "nbformat": 4,
 "nbformat_minor": 5
}
