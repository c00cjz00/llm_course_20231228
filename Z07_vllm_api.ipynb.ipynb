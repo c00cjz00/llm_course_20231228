{
 "cells": [
  {
   "cell_type": "markdown",
   "id": "3568d017-96b2-4669-aedf-319f78dad160",
   "metadata": {},
   "source": [
    "## INSTALL"
   ]
  },
  {
   "cell_type": "code",
   "execution_count": null,
   "id": "bc01a26b-fe74-4ff3-bd8c-1c68b4810711",
   "metadata": {
    "tags": []
   },
   "outputs": [],
   "source": [
    "!pip install https://github.com/vllm-project/vllm/releases/download/v0.3.0/vllm-0.3.0+cu118-cp310-cp310-manylinux1_x86_64.whl\n",
    "!pip install --upgrade xformers==0.0.23.post1 torch==2.1.2 --index-url https://download.pytorch.org/whl/cu118"
   ]
  },
  {
   "cell_type": "code",
   "execution_count": null,
   "id": "db3f0cc2-c6a6-4bff-a5d8-d3c4a1b42940",
   "metadata": {
    "tags": []
   },
   "outputs": [],
   "source": [
    "!nvidia-smi\n",
    "import torch\n",
    "torch.cuda.is_available()"
   ]
  },
  {
   "cell_type": "markdown",
   "id": "0a35de45-97dd-44be-8774-04aabd08d78c",
   "metadata": {},
   "source": [
    "##　Model Vllm"
   ]
  },
  {
   "cell_type": "code",
   "execution_count": null,
   "id": "e5e6b692-99aa-41af-9d08-105f2e08f5dd",
   "metadata": {
    "tags": []
   },
   "outputs": [],
   "source": [
    "!python3 -m vllm.entrypoints.api_server \\\n",
    "    --model /work/u00cjz00/slurm_jobs/github/models/Llama-2-7b-chat-hf --swap-space 16 \\\n",
    "    --disable-log-requests --host 0.0.0.0 --port 8080 --max-num-seqs 256"
   ]
  },
  {
   "cell_type": "markdown",
   "id": "ec25b7e5-b0dd-4159-84dd-2f8ee0e6bd84",
   "metadata": {},
   "source": [
    "##　Model Oepnai"
   ]
  },
  {
   "cell_type": "code",
   "execution_count": null,
   "id": "05100f5d-531c-4947-afc6-b3c4cd613cba",
   "metadata": {
    "tags": []
   },
   "outputs": [],
   "source": [
    "!python3 -m vllm.entrypoints.openai.api_server \\\n",
    "--model /work/u00cjz00/slurm_jobs/github/models/Llama-2-7b-chat-hf --swap-space 16 \\\n",
    "--disable-log-requests --host 0.0.0.0 --port 5001 --max-num-seqs 20 --served-model-name llama-2"
   ]
  },
  {
   "cell_type": "markdown",
   "id": "0d93804d-7168-4f78-918c-98c19cec4929",
   "metadata": {
    "tags": []
   },
   "source": [
    "## CURL"
   ]
  },
  {
   "cell_type": "code",
   "execution_count": null,
   "id": "83a3d60d-0362-469e-8ebd-2b416da8d0e0",
   "metadata": {},
   "outputs": [],
   "source": [
    "!curl http://gpn3001:5001/v1/models"
   ]
  },
  {
   "cell_type": "code",
   "execution_count": null,
   "id": "beb6590b-022c-4e86-93a6-f77a0f3d5576",
   "metadata": {},
   "outputs": [],
   "source": [
    "%%bash\n",
    "curl http://gpn3001:5001/v1/completions \\\n",
    "-H \"Content-Type: application/json\" \\\n",
    "-d '{\n",
    "\"model\": \"llama-2\",\n",
    "\"prompt\": \"San Francisco is a\",\n",
    "\"max_tokens\": 70,\n",
    "\"temperature\": 0\n",
    "}'"
   ]
  },
  {
   "cell_type": "code",
   "execution_count": null,
   "id": "17013510-5015-4772-bc5a-69c6b176be60",
   "metadata": {},
   "outputs": [],
   "source": [
    "%%bash\n",
    "curl http://gpn3001:5001/v1/chat/completions \\\n",
    "-H \"Content-Type: application/json\" \\\n",
    "-d '{\n",
    "\"model\": \"llama-2\",\n",
    "\"messages\": [\n",
    "{\"role\": \"system\", \"content\": \"You are a helpful assistant.\"},\n",
    "{\"role\": \"user\", \"content\": \"什麼是聯邦式學習?\"}\n",
    "]\n",
    "}'"
   ]
  }
 ],
 "metadata": {
  "kernelspec": {
   "display_name": "Image_S_work-genai08_pytorch_2.1.2-cuda11.8-cudnn8-devel_opencv",
   "language": "python",
   "name": "s_work-genai08_pytorch_2.1.2-cuda11.8-cudnn8-devel_opencv"
  },
  "language_info": {
   "codemirror_mode": {
    "name": "ipython",
    "version": 3
   },
   "file_extension": ".py",
   "mimetype": "text/x-python",
   "name": "python",
   "nbconvert_exporter": "python",
   "pygments_lexer": "ipython3",
   "version": "3.10.13"
  }
 },
 "nbformat": 4,
 "nbformat_minor": 5
}
