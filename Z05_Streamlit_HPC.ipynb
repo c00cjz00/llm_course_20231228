{
 "cells": [
  {
   "cell_type": "markdown",
   "metadata": {
    "id": "ORCx8i1o1ZK9",
    "tags": []
   },
   "source": [
    "# Streamlit (HPC)\n",
    "https://github.com/c00cjz00/RAG_LangChain_streamlit"
   ]
  },
  {
   "cell_type": "markdown",
   "metadata": {
    "id": "PAnZLFDg1ZLC"
   },
   "source": [
    "## 初始環境設定, 切換到 kernel pytorch_2.1.0-cuda11.8-cudnn8-devel.sif"
   ]
  },
  {
   "cell_type": "code",
   "execution_count": null,
   "metadata": {
    "id": "3UgaDyzu1ZLD"
   },
   "outputs": [],
   "source": [
    "# 初始環境設定\n",
    "import os\n",
    "from pathlib import Path\n",
    "HOME = str(Path.home())\n",
    "Add_Binarry_Path=HOME+'/.local/bin:/usr/ubuntu_bin'\n",
    "os.environ['PATH']=os.environ['PATH']+':'+Add_Binarry_Path"
   ]
  },
  {
   "cell_type": "markdown",
   "metadata": {
    "id": "z0dGdgGD1ZLF"
   },
   "source": [
    "## 確認CUDA版本, 以及否能使用GPU"
   ]
  },
  {
   "cell_type": "code",
   "execution_count": null,
   "metadata": {
    "id": "xuM2aF8F1ZLG"
   },
   "outputs": [],
   "source": [
    "!nvidia-smi\n",
    "import torch\n",
    "torch.cuda.is_available()"
   ]
  },
  {
   "cell_type": "markdown",
   "metadata": {},
   "source": [
    "## 可能需要切換到原生 python3 kernel"
   ]
  },
  {
   "cell_type": "code",
   "execution_count": null,
   "metadata": {
    "tags": []
   },
   "outputs": [],
   "source": [
    "%%bash\n",
    "rm -rf RAG_LangChain_streamlit\n",
    "git clone https://github.com/c00cjz00/RAG_LangChain_streamlit.git"
   ]
  },
  {
   "cell_type": "markdown",
   "metadata": {
    "id": "M3Wt3onj1ZLH"
   },
   "source": [
    "## 安裝套件, 切換到 kernel pytorch_2.1.0-cuda11.8-cudnn8-devel.sif"
   ]
  },
  {
   "cell_type": "code",
   "execution_count": null,
   "metadata": {
    "id": "Y6VqOoP71ZLI"
   },
   "outputs": [],
   "source": [
    "%%bash\n",
    "cd ./RAG_LangChain_streamlit\n",
    "pip install -r requirements.txt -q\n",
    "pip install bitsandbytes==0.42.0 -q"
   ]
  },
  {
   "cell_type": "markdown",
   "metadata": {},
   "source": [
    "## 強制刪除運行中服務"
   ]
  },
  {
   "cell_type": "code",
   "execution_count": null,
   "metadata": {
    "tags": []
   },
   "outputs": [],
   "source": [
    "# 強制刪除運行中服務\n",
    "!ps -ef |grep rag_engine.py | awk '{print $2}' | xargs kill -9"
   ]
  },
  {
   "cell_type": "markdown",
   "metadata": {
    "id": "YzSyHE8B1ZLI"
   },
   "source": [
    "## 開啟WebUI\n",
    "- change rag_engine.py\n",
    "```\n",
    "llm = ChatOpenAI(openai_api_key=openai_api_key,model=\"gpt-3.5-turbo-16k-0613\", temperature=0, streaming=True)\n",
    "to\n",
    " llm = ChatOpenAI(openai_api_key=openai_api_key,model=\"gpt-3.5-turbo-16k-0613\", temperature=0, streaming=True)\n",
    "```\n",
    "- change rag_engine.py\n",
    "```\n",
    "embeddings = HuggingFaceEmbeddings(model_name=model_name,model_kwargs=model_kwargs)\n",
    "to\n",
    "embeddings = OpenAIEmbeddings(openai_api_key=openai_api_key,model=\"text-embedding-ada-002\")  \n",
    "```\n",
    "- change rag_engine.py\n",
    "```\n",
    "text_splitter = RecursiveCharacterTextSplitter(chunk_size=100, chunk_overlap=10)\n",
    "to\n",
    "text_splitter = RecursiveCharacterTextSplitter(chunk_size=2000, chunk_overlap=100)\n",
    "```"
   ]
  },
  {
   "cell_type": "code",
   "execution_count": null,
   "metadata": {
    "id": "qHey8AHr1ZLJ"
   },
   "outputs": [],
   "source": [
    "%%bash\n",
    "# PATH\n",
    "cd ./RAG_LangChain_streamlit\n",
    "\n",
    "# delete older data\n",
    "rm -rf data/tmp data/vector_store data/vector_store_openai\n",
    "mkdir data/tmp\n",
    "\n",
    "# IP\n",
    "node_ip=$(cat /etc/hosts |grep \"$(hostname -a)\" | awk '{print $1}')\n",
    "# PORT\n",
    "noed_port_genai=$(python -c \"import socket; s = socket.socket(socket.AF_INET, socket.SOCK_STREAM); s.bind(('', 0)); addr = s.getsockname(); s.close(); print(addr[1])\")\n",
    "# PROXY\n",
    "proxy_url=/rstudio/${node_ip}/${noed_port_genai}\n",
    "# URL\n",
    "https_url=https://node01.biobank.org.tw${proxy_url}/\n",
    "echo $https_url\n",
    "\n",
    "# RUN\n",
    "streamlit run rag_engine.py --server.address=$(hostname -s) --server.port=${noed_port_genai}\n",
    "#streamlit run rag_engine.py --server.address=$(hostname -s) --server.port=${noed_port_genai} --server.baseUrlPath=${proxy_url}"
   ]
  },
  {
   "cell_type": "code",
   "execution_count": null,
   "metadata": {},
   "outputs": [],
   "source": []
  }
 ],
 "metadata": {
  "accelerator": "GPU",
  "colab": {
   "provenance": []
  },
  "kernelspec": {
   "display_name": "Image_S_work-genai07_pytorch_2.1.2-cuda11.8-cudnn8-devel_opencv",
   "language": "python",
   "name": "s_work-genai07_pytorch_2.1.2-cuda11.8-cudnn8-devel_opencv"
  },
  "language_info": {
   "codemirror_mode": {
    "name": "ipython",
    "version": 3
   },
   "file_extension": ".py",
   "mimetype": "text/x-python",
   "name": "python",
   "nbconvert_exporter": "python",
   "pygments_lexer": "ipython3",
   "version": "3.10.13"
  }
 },
 "nbformat": 4,
 "nbformat_minor": 4
}
