{
 "cells": [
  {
   "cell_type": "code",
   "execution_count": null,
   "id": "4b113b8a-c6ff-43f8-a097-30d7d48629fd",
   "metadata": {
    "tags": []
   },
   "outputs": [],
   "source": [
    "import os\n",
    "from pathlib import Path\n",
    "HOME = str(Path.home())\n",
    "Add_Binarry_Path=HOME+'/.local/bin'\n",
    "os.environ['PATH']=os.environ['PATH']+':'+Add_Binarry_Path\n",
    "current_foldr=!pwd\n",
    "current_foldr=current_foldr[0]\n",
    "current_foldr"
   ]
  },
  {
   "cell_type": "code",
   "execution_count": null,
   "id": "dda25d8f-63b5-45ca-b6fa-78b1f2a48091",
   "metadata": {
    "tags": []
   },
   "outputs": [],
   "source": [
    "# HF_TOKEN method 2\n",
    "import os\n",
    "os.environ[\"HF_TOKEN\"] = \"\""
   ]
  },
  {
   "cell_type": "raw",
   "id": "196965fc-a6bb-4e4c-8bfd-c234848bace6",
   "metadata": {
    "tags": []
   },
   "source": [
    "%%bash\n",
    "# Download model\n",
    "mkdir -p chinese-llama-2-7b\n",
    "HF_HUB_ENABLE_HF_TRANSFER=1 huggingface-cli download hfl/chinese-llama-2-7b --local-dir chinese-llama-2-7b  --local-dir-use-symlinks False"
   ]
  },
  {
   "cell_type": "markdown",
   "id": "10c27250-78d0-4bdd-bda4-19273b6e8b73",
   "metadata": {},
   "source": [
    "## Tokenizer 擴充詞語表"
   ]
  },
  {
   "cell_type": "code",
   "execution_count": null,
   "id": "5f0b2c6b-81ee-454a-8b2c-5979e6c463d1",
   "metadata": {
    "tags": []
   },
   "outputs": [],
   "source": [
    "# Test\n",
    "#from transformers import AutoModelForCausalLM, AutoTokenizer, pipeline, BitsAndBytesConfig\n",
    "from transformers import LlamaTokenizer\n",
    "llama2_tokenizer_dir=\"/work/g00cjz00/github/LLaMA-Factory/Llama-2-7b-hf/tokenizer.model\"\n",
    "chinese_llama2_tokenizer_dir=\"/work/g00cjz00/github/LLaMA-Factory/chinese-llama-2-7b/tokenizer.model\"\n",
    "mistral_tokenizer_dir=\"/work/u00cjz00/slurm_jobs/github/models/Mistral-7B-Instruct-v0.1\"\n",
    "\n",
    "llama_tokenizer = LlamaTokenizer.from_pretrained(llama2_tokenizer_dir)\n",
    "chinese_llama_tokenizer = LlamaTokenizer.from_pretrained(chinese_llama2_tokenizer_dir)\n",
    "mistral_llama_tokenizer = LlamaTokenizer.from_pretrained(mistral_tokenizer_dir)\n",
    "\n",
    "#print(llama_tokenizer.all_special_tokens)\n",
    "#print(llama_tokenizer.all_special_ids)\n",
    "#print(llama_tokenizer.special_tokens_map)\n",
    "\n",
    "text = '''The primary use of LLaMA is research on large language models, including'''\n",
    "print(\"Test text:\\n\", text)\n",
    "print(f\"{llama_tokenizer.tokenize(text)} ->llama2\")\n",
    "print(f\"{chinese_llama_tokenizer.tokenize(text)} -> Chinese\")\n",
    "print(f\"{mistral_llama_tokenizer.tokenize(text)} -> Mistral\")\n",
    "\n",
    "text = '''蔡英文，中華民國政治人物、法學家與律師，民主進步黨籍，現任中華民國總統。'''\n",
    "print(\"Test text:\\n\", text)\n",
    "print(f\"{llama_tokenizer.tokenize(text)} ->llama2\")\n",
    "print(f\"{chinese_llama_tokenizer.tokenize(text)} -> Chinese\")\n",
    "print(f\"{mistral_llama_tokenizer.tokenize(text)} -> Mistral\")"
   ]
  },
  {
   "cell_type": "code",
   "execution_count": null,
   "id": "be38fe86-d492-4287-a469-bfacfb8770e8",
   "metadata": {},
   "outputs": [],
   "source": []
  }
 ],
 "metadata": {
  "kernelspec": {
   "display_name": "Image_S_work-genai01_pytorch_2.1.2-cuda11.8-cudnn8-devel_opencv",
   "language": "python",
   "name": "s_work-genai01_pytorch_2.1.2-cuda11.8-cudnn8-devel_opencv"
  },
  "language_info": {
   "codemirror_mode": {
    "name": "ipython",
    "version": 3
   },
   "file_extension": ".py",
   "mimetype": "text/x-python",
   "name": "python",
   "nbconvert_exporter": "python",
   "pygments_lexer": "ipython3",
   "version": "3.10.13"
  }
 },
 "nbformat": 4,
 "nbformat_minor": 5
}
