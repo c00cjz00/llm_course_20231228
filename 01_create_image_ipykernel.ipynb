{
 "cells": [
  {
   "cell_type": "markdown",
   "id": "1f8f93ae-3208-4361-a023-d24a5109f951",
   "metadata": {},
   "source": [
    "## 01_create_image_ipykernel\n",
    "#### <span style=\"color:red\">Change to Default kernel:  Pyhon 3 (ipykernel)</span>."
   ]
  },
  {
   "cell_type": "code",
   "execution_count": 1,
   "id": "36e2b37a-e84b-4db0-9520-a862829ecc36",
   "metadata": {
    "tags": []
   },
   "outputs": [
    {
     "name": "stderr",
     "output_type": "stream",
     "text": [
      "\u001b[33mWARNING: The directory '/tmp/user-pip' or its parent directory is not owned or is not writable by the current user. The cache has been disabled. Check the permissions and owner of that directory. If executing pip with sudo, you should use sudo's -H flag.\u001b[0m\u001b[33m\n",
      "\u001b[0m\u001b[33m  WARNING: The scripts jupyter, jupyter-migrate and jupyter-troubleshoot are installed in '/home/g00cjz00/.local/bin' which is not on PATH.\n",
      "  Consider adding this directory to PATH or, if you prefer to suppress this warning, use --no-warn-script-location.\u001b[0m\u001b[33m\n",
      "\u001b[0m\u001b[33m  WARNING: The scripts jupyter-kernel, jupyter-kernelspec and jupyter-run are installed in '/home/g00cjz00/.local/bin' which is not on PATH.\n",
      "  Consider adding this directory to PATH or, if you prefer to suppress this warning, use --no-warn-script-location.\u001b[0m\u001b[33m\n",
      "\u001b[0m"
     ]
    }
   ],
   "source": [
    "%%bash\n",
    "### 0. pipi install libsray savefolder\n",
    "saveFolder=work\n",
    "label=genai2\n",
    "### 1. IMAGE\n",
    "#IMAGE=/work/u00cjz00/nvidia/python_IMAGE/python_3.7.sif\n",
    "#IMAGE=/work/u00cjz00/nvidia/python_IMAGE/python_3.8.sif\n",
    "#IMAGE=/work/u00cjz00/nvidia/python_IMAGE/python_3.9.sif\n",
    "#IMAGE=/work/u00cjz00/nvidia/python_IMAGE/python_3.10.sif\n",
    "#IMAGE=/work/u00cjz00/nvidia/python_IMAGE/python_3.11.sif\n",
    "#IMAGE=/work/u00cjz00/nvidia/pytorch_2.1.0-cuda11.8-cudnn8-devel.sif\n",
    "#IMAGE=/work/u00cjz00/nvidia/cjz_images/pytorch_2.1.0-cuda11.8-cudnn8-runtime.sif\n",
    "IMAGE=/work/u00cjz00/nvidia/cjz_images/pytorch_2.1.0-cuda11.8-cudnn8-runtime_textgen.sif\n",
    "#IMAGE=/work/u00cjz00/nvidia/stable-diffusion-webui_full.sif\n",
    "IMAGE_basename=S_${saveFolder}-${label}_$(basename \"$IMAGE\" .sif)\n",
    "\n",
    "### 2. VIRTUAL LIBRARY and BINARY FOLDER\n",
    "libraryFolder=/${saveFolder}/$(whoami)/libraryFolder/${IMAGE_basename}/local/lib\n",
    "libraryFolder_binding=${libraryFolder}:${HOME}/.local/lib\n",
    "binFolder=/${saveFolder}/$(whoami)/libraryFolder/${IMAGE_basename}/local/bin\n",
    "binFolder_binding=${binFolder}:${HOME}/.local/bin\n",
    "rm -rf /${saveFolder}/$(whoami)/libraryFolder/${IMAGE_basename}\n",
    "mkdir -p ${libraryFolder} ${binFolder}\n",
    "\n",
    "# 3. PIP INSTALL SLAVE IPYKERNEL\n",
    "ml libs/singularity/3.10.2\n",
    "singularity exec -B ${libraryFolder_binding} -B ${binFolder_binding} ${IMAGE} pip install -q ipykernel IProgress ipywidgets\n",
    "\n",
    "# 4. IPYKERNEL for IMAGE\n",
    "IPYKERNEL=/work/u00cjz00/slurm_jobs/ipykernel/t2/image_with_ipykernel_local\n",
    "mkdir -p ${HOME}/.local/share/jupyter/kernels/\n",
    "rm -rf ${HOME}/.local/share/jupyter/kernels/${IMAGE_basename}\n",
    "cp -rf ${IPYKERNEL} ${HOME}/.local/share/jupyter/kernels/${IMAGE_basename}\n",
    "chmod -R 755 ${HOME}/.local/share/jupyter/kernels/${IMAGE_basename}\n",
    "IMAGE_desc=$(echo $IMAGE | sed 's_/_\\\\/_g')\n",
    "sed -i \"s/templateSIF/${IMAGE_desc}/g\" ${HOME}/.local/share/jupyter/kernels/${IMAGE_basename}/kernel.json\n",
    "sed -i \"s/templateImage/Image_${IMAGE_basename}/g\" ${HOME}/.local/share/jupyter/kernels/${IMAGE_basename}/kernel.json\n",
    "sed -i \"s@templateLibrayFolder@${libraryFolder_binding}@g\" ${HOME}/.local/share/jupyter/kernels/${IMAGE_basename}/kernel.json\n",
    "sed -i \"s@templateBinFolder@${binFolder_binding}@g\" ${HOME}/.local/share/jupyter/kernels/${IMAGE_basename}/kernel.json"
   ]
  },
  {
   "cell_type": "code",
   "execution_count": 3,
   "id": "b70bb551-62fb-445a-bde8-a3eb1bd99d43",
   "metadata": {
    "tags": []
   },
   "outputs": [
    {
     "name": "stderr",
     "output_type": "stream",
     "text": [
      "du: cannot access '/work/g00cjz00/libraryFolder/S_work-genai2_alpaca-lora_latest/local/lib': No such file or directory\n"
     ]
    },
    {
     "name": "stdout",
     "output_type": "stream",
     "text": [
      "/home/g00cjz00/.local/share/jupyter/kernels/S_work-genai2_alpaca-lora_latest/kernel.json\n"
     ]
    },
    {
     "name": "stderr",
     "output_type": "stream",
     "text": [
      "cat: /home/g00cjz00/.local/share/jupyter/kernels/S_work-genai2_alpaca-lora_latest/kernel.json: No such file or directory\n"
     ]
    },
    {
     "ename": "CalledProcessError",
     "evalue": "Command 'b'### 0. pipi install libsray savefolder\\nsaveFolder=work\\nlabel=genai2\\n\\n### 1. IMAGE\\n#IMAGE=/work/u00cjz00/nvidia/python_IMAGE/python_3.7.sif\\n#IMAGE=/work/u00cjz00/nvidia/python_IMAGE/python_3.8.sif\\n#IMAGE=/work/u00cjz00/nvidia/python_IMAGE/python_3.9.sif\\n#IMAGE=/work/u00cjz00/nvidia/python_IMAGE/python_3.10.sif\\n#IMAGE=/work/u00cjz00/nvidia/python_IMAGE/python_3.11.sif\\n#IMAGE=/work/u00cjz00/nvidia/pytorch_2.1.0-cuda11.8-cudnn8-devel.sif\\n#IMAGE=/work/u00cjz00/nvidia/cjz_images/pytorch_2.1.0-cuda11.8-cudnn8-runtime.sif\\nIMAGE=/work/u00cjz00/nvidia/cjz_images/pytorch_2.1.0-cuda11.8-cudnn8-runtime_textgen.sif\\nIMAGE=/work/u00cjz00/nvidia/alpaca-lora_latest.sif\\nIMAGE_basename=S_${saveFolder}-${label}_$(basename \"$IMAGE\" .sif)\\n\\n### 2. VIRTUAL LIBRARY and BINARY FOLDER\\nlibraryFolder=/${saveFolder}/$(whoami)/libraryFolder/${IMAGE_basename}/local/lib\\ndu -sh ${libraryFolder}\\necho /home/$(whoami)/.local/share/jupyter/kernels/${IMAGE_basename}/kernel.json\\ncat /home/$(whoami)/.local/share/jupyter/kernels/${IMAGE_basename}/kernel.json\\n'' returned non-zero exit status 1.",
     "output_type": "error",
     "traceback": [
      "\u001b[0;31m---------------------------------------------------------------------------\u001b[0m",
      "\u001b[0;31mCalledProcessError\u001b[0m                        Traceback (most recent call last)",
      "Cell \u001b[0;32mIn[3], line 1\u001b[0m\n\u001b[0;32m----> 1\u001b[0m \u001b[43mget_ipython\u001b[49m\u001b[43m(\u001b[49m\u001b[43m)\u001b[49m\u001b[38;5;241;43m.\u001b[39;49m\u001b[43mrun_cell_magic\u001b[49m\u001b[43m(\u001b[49m\u001b[38;5;124;43m'\u001b[39;49m\u001b[38;5;124;43mbash\u001b[39;49m\u001b[38;5;124;43m'\u001b[39;49m\u001b[43m,\u001b[49m\u001b[43m \u001b[49m\u001b[38;5;124;43m'\u001b[39;49m\u001b[38;5;124;43m'\u001b[39;49m\u001b[43m,\u001b[49m\u001b[43m \u001b[49m\u001b[38;5;124;43m'\u001b[39;49m\u001b[38;5;124;43m### 0. pipi install libsray savefolder\u001b[39;49m\u001b[38;5;130;43;01m\\n\u001b[39;49;00m\u001b[38;5;124;43msaveFolder=work\u001b[39;49m\u001b[38;5;130;43;01m\\n\u001b[39;49;00m\u001b[38;5;124;43mlabel=genai2\u001b[39;49m\u001b[38;5;130;43;01m\\n\u001b[39;49;00m\u001b[38;5;130;43;01m\\n\u001b[39;49;00m\u001b[38;5;124;43m### 1. IMAGE\u001b[39;49m\u001b[38;5;130;43;01m\\n\u001b[39;49;00m\u001b[38;5;124;43m#IMAGE=/work/u00cjz00/nvidia/python_IMAGE/python_3.7.sif\u001b[39;49m\u001b[38;5;130;43;01m\\n\u001b[39;49;00m\u001b[38;5;124;43m#IMAGE=/work/u00cjz00/nvidia/python_IMAGE/python_3.8.sif\u001b[39;49m\u001b[38;5;130;43;01m\\n\u001b[39;49;00m\u001b[38;5;124;43m#IMAGE=/work/u00cjz00/nvidia/python_IMAGE/python_3.9.sif\u001b[39;49m\u001b[38;5;130;43;01m\\n\u001b[39;49;00m\u001b[38;5;124;43m#IMAGE=/work/u00cjz00/nvidia/python_IMAGE/python_3.10.sif\u001b[39;49m\u001b[38;5;130;43;01m\\n\u001b[39;49;00m\u001b[38;5;124;43m#IMAGE=/work/u00cjz00/nvidia/python_IMAGE/python_3.11.sif\u001b[39;49m\u001b[38;5;130;43;01m\\n\u001b[39;49;00m\u001b[38;5;124;43m#IMAGE=/work/u00cjz00/nvidia/pytorch_2.1.0-cuda11.8-cudnn8-devel.sif\u001b[39;49m\u001b[38;5;130;43;01m\\n\u001b[39;49;00m\u001b[38;5;124;43m#IMAGE=/work/u00cjz00/nvidia/cjz_images/pytorch_2.1.0-cuda11.8-cudnn8-runtime.sif\u001b[39;49m\u001b[38;5;130;43;01m\\n\u001b[39;49;00m\u001b[38;5;124;43mIMAGE=/work/u00cjz00/nvidia/cjz_images/pytorch_2.1.0-cuda11.8-cudnn8-runtime_textgen.sif\u001b[39;49m\u001b[38;5;130;43;01m\\n\u001b[39;49;00m\u001b[38;5;124;43mIMAGE=/work/u00cjz00/nvidia/alpaca-lora_latest.sif\u001b[39;49m\u001b[38;5;130;43;01m\\n\u001b[39;49;00m\u001b[38;5;124;43mIMAGE_basename=S_$\u001b[39;49m\u001b[38;5;132;43;01m{saveFolder}\u001b[39;49;00m\u001b[38;5;124;43m-$\u001b[39;49m\u001b[38;5;132;43;01m{label}\u001b[39;49;00m\u001b[38;5;124;43m_$(basename \u001b[39;49m\u001b[38;5;124;43m\"\u001b[39;49m\u001b[38;5;124;43m$IMAGE\u001b[39;49m\u001b[38;5;124;43m\"\u001b[39;49m\u001b[38;5;124;43m .sif)\u001b[39;49m\u001b[38;5;130;43;01m\\n\u001b[39;49;00m\u001b[38;5;130;43;01m\\n\u001b[39;49;00m\u001b[38;5;124;43m### 2. VIRTUAL LIBRARY and BINARY FOLDER\u001b[39;49m\u001b[38;5;130;43;01m\\n\u001b[39;49;00m\u001b[38;5;124;43mlibraryFolder=/$\u001b[39;49m\u001b[38;5;132;43;01m{saveFolder}\u001b[39;49;00m\u001b[38;5;124;43m/$(whoami)/libraryFolder/$\u001b[39;49m\u001b[38;5;132;43;01m{IMAGE_basename}\u001b[39;49;00m\u001b[38;5;124;43m/local/lib\u001b[39;49m\u001b[38;5;130;43;01m\\n\u001b[39;49;00m\u001b[38;5;124;43mdu -sh $\u001b[39;49m\u001b[38;5;132;43;01m{libraryFolder}\u001b[39;49;00m\u001b[38;5;130;43;01m\\n\u001b[39;49;00m\u001b[38;5;124;43mecho /home/$(whoami)/.local/share/jupyter/kernels/$\u001b[39;49m\u001b[38;5;132;43;01m{IMAGE_basename}\u001b[39;49;00m\u001b[38;5;124;43m/kernel.json\u001b[39;49m\u001b[38;5;130;43;01m\\n\u001b[39;49;00m\u001b[38;5;124;43mcat /home/$(whoami)/.local/share/jupyter/kernels/$\u001b[39;49m\u001b[38;5;132;43;01m{IMAGE_basename}\u001b[39;49;00m\u001b[38;5;124;43m/kernel.json\u001b[39;49m\u001b[38;5;130;43;01m\\n\u001b[39;49;00m\u001b[38;5;124;43m'\u001b[39;49m\u001b[43m)\u001b[49m\n",
      "File \u001b[0;32m/work/u00cjz00/share/miniconda3_py38/lib/python3.8/site-packages/IPython/core/interactiveshell.py:2478\u001b[0m, in \u001b[0;36mInteractiveShell.run_cell_magic\u001b[0;34m(self, magic_name, line, cell)\u001b[0m\n\u001b[1;32m   2476\u001b[0m \u001b[38;5;28;01mwith\u001b[39;00m \u001b[38;5;28mself\u001b[39m\u001b[38;5;241m.\u001b[39mbuiltin_trap:\n\u001b[1;32m   2477\u001b[0m     args \u001b[38;5;241m=\u001b[39m (magic_arg_s, cell)\n\u001b[0;32m-> 2478\u001b[0m     result \u001b[38;5;241m=\u001b[39m \u001b[43mfn\u001b[49m\u001b[43m(\u001b[49m\u001b[38;5;241;43m*\u001b[39;49m\u001b[43margs\u001b[49m\u001b[43m,\u001b[49m\u001b[43m \u001b[49m\u001b[38;5;241;43m*\u001b[39;49m\u001b[38;5;241;43m*\u001b[39;49m\u001b[43mkwargs\u001b[49m\u001b[43m)\u001b[49m\n\u001b[1;32m   2480\u001b[0m \u001b[38;5;66;03m# The code below prevents the output from being displayed\u001b[39;00m\n\u001b[1;32m   2481\u001b[0m \u001b[38;5;66;03m# when using magics with decodator @output_can_be_silenced\u001b[39;00m\n\u001b[1;32m   2482\u001b[0m \u001b[38;5;66;03m# when the last Python token in the expression is a ';'.\u001b[39;00m\n\u001b[1;32m   2483\u001b[0m \u001b[38;5;28;01mif\u001b[39;00m \u001b[38;5;28mgetattr\u001b[39m(fn, magic\u001b[38;5;241m.\u001b[39mMAGIC_OUTPUT_CAN_BE_SILENCED, \u001b[38;5;28;01mFalse\u001b[39;00m):\n",
      "File \u001b[0;32m/work/u00cjz00/share/miniconda3_py38/lib/python3.8/site-packages/IPython/core/magics/script.py:153\u001b[0m, in \u001b[0;36mScriptMagics._make_script_magic.<locals>.named_script_magic\u001b[0;34m(line, cell)\u001b[0m\n\u001b[1;32m    151\u001b[0m \u001b[38;5;28;01melse\u001b[39;00m:\n\u001b[1;32m    152\u001b[0m     line \u001b[38;5;241m=\u001b[39m script\n\u001b[0;32m--> 153\u001b[0m \u001b[38;5;28;01mreturn\u001b[39;00m \u001b[38;5;28;43mself\u001b[39;49m\u001b[38;5;241;43m.\u001b[39;49m\u001b[43mshebang\u001b[49m\u001b[43m(\u001b[49m\u001b[43mline\u001b[49m\u001b[43m,\u001b[49m\u001b[43m \u001b[49m\u001b[43mcell\u001b[49m\u001b[43m)\u001b[49m\n",
      "File \u001b[0;32m/work/u00cjz00/share/miniconda3_py38/lib/python3.8/site-packages/IPython/core/magics/script.py:305\u001b[0m, in \u001b[0;36mScriptMagics.shebang\u001b[0;34m(self, line, cell)\u001b[0m\n\u001b[1;32m    300\u001b[0m \u001b[38;5;28;01mif\u001b[39;00m args\u001b[38;5;241m.\u001b[39mraise_error \u001b[38;5;129;01mand\u001b[39;00m p\u001b[38;5;241m.\u001b[39mreturncode \u001b[38;5;241m!=\u001b[39m \u001b[38;5;241m0\u001b[39m:\n\u001b[1;32m    301\u001b[0m     \u001b[38;5;66;03m# If we get here and p.returncode is still None, we must have\u001b[39;00m\n\u001b[1;32m    302\u001b[0m     \u001b[38;5;66;03m# killed it but not yet seen its return code. We don't wait for it,\u001b[39;00m\n\u001b[1;32m    303\u001b[0m     \u001b[38;5;66;03m# in case it's stuck in uninterruptible sleep. -9 = SIGKILL\u001b[39;00m\n\u001b[1;32m    304\u001b[0m     rc \u001b[38;5;241m=\u001b[39m p\u001b[38;5;241m.\u001b[39mreturncode \u001b[38;5;129;01mor\u001b[39;00m \u001b[38;5;241m-\u001b[39m\u001b[38;5;241m9\u001b[39m\n\u001b[0;32m--> 305\u001b[0m     \u001b[38;5;28;01mraise\u001b[39;00m CalledProcessError(rc, cell)\n",
      "\u001b[0;31mCalledProcessError\u001b[0m: Command 'b'### 0. pipi install libsray savefolder\\nsaveFolder=work\\nlabel=genai2\\n\\n### 1. IMAGE\\n#IMAGE=/work/u00cjz00/nvidia/python_IMAGE/python_3.7.sif\\n#IMAGE=/work/u00cjz00/nvidia/python_IMAGE/python_3.8.sif\\n#IMAGE=/work/u00cjz00/nvidia/python_IMAGE/python_3.9.sif\\n#IMAGE=/work/u00cjz00/nvidia/python_IMAGE/python_3.10.sif\\n#IMAGE=/work/u00cjz00/nvidia/python_IMAGE/python_3.11.sif\\n#IMAGE=/work/u00cjz00/nvidia/pytorch_2.1.0-cuda11.8-cudnn8-devel.sif\\n#IMAGE=/work/u00cjz00/nvidia/cjz_images/pytorch_2.1.0-cuda11.8-cudnn8-runtime.sif\\nIMAGE=/work/u00cjz00/nvidia/cjz_images/pytorch_2.1.0-cuda11.8-cudnn8-runtime_textgen.sif\\nIMAGE=/work/u00cjz00/nvidia/alpaca-lora_latest.sif\\nIMAGE_basename=S_${saveFolder}-${label}_$(basename \"$IMAGE\" .sif)\\n\\n### 2. VIRTUAL LIBRARY and BINARY FOLDER\\nlibraryFolder=/${saveFolder}/$(whoami)/libraryFolder/${IMAGE_basename}/local/lib\\ndu -sh ${libraryFolder}\\necho /home/$(whoami)/.local/share/jupyter/kernels/${IMAGE_basename}/kernel.json\\ncat /home/$(whoami)/.local/share/jupyter/kernels/${IMAGE_basename}/kernel.json\\n'' returned non-zero exit status 1."
     ]
    }
   ],
   "source": [
    "%%bash\n",
    "### 0. pipi install libsray savefolder\n",
    "saveFolder=work\n",
    "label=genai2\n",
    "\n",
    "### 1. IMAGE\n",
    "#IMAGE=/work/u00cjz00/nvidia/python_IMAGE/python_3.7.sif\n",
    "#IMAGE=/work/u00cjz00/nvidia/python_IMAGE/python_3.8.sif\n",
    "#IMAGE=/work/u00cjz00/nvidia/python_IMAGE/python_3.9.sif\n",
    "#IMAGE=/work/u00cjz00/nvidia/python_IMAGE/python_3.10.sif\n",
    "#IMAGE=/work/u00cjz00/nvidia/python_IMAGE/python_3.11.sif\n",
    "#IMAGE=/work/u00cjz00/nvidia/pytorch_2.1.0-cuda11.8-cudnn8-devel.sif\n",
    "#IMAGE=/work/u00cjz00/nvidia/cjz_images/pytorch_2.1.0-cuda11.8-cudnn8-runtime.sif\n",
    "IMAGE=/work/u00cjz00/nvidia/cjz_images/pytorch_2.1.0-cuda11.8-cudnn8-runtime_textgen.sif\n",
    "IMAGE=/work/u00cjz00/nvidia/alpaca-lora_latest.sif\n",
    "IMAGE_basename=S_${saveFolder}-${label}_$(basename \"$IMAGE\" .sif)\n",
    "\n",
    "### 2. VIRTUAL LIBRARY and BINARY FOLDER\n",
    "libraryFolder=/${saveFolder}/$(whoami)/libraryFolder/${IMAGE_basename}/local/lib\n",
    "du -sh ${libraryFolder}\n",
    "echo /home/$(whoami)/.local/share/jupyter/kernels/${IMAGE_basename}/kernel.json\n",
    "cat /home/$(whoami)/.local/share/jupyter/kernels/${IMAGE_basename}/kernel.json"
   ]
  },
  {
   "cell_type": "raw",
   "id": "82af2721-52e7-4c05-8db3-c7ab8f8148f2",
   "metadata": {
    "tags": []
   },
   "source": [
    "%%bash\n",
    "### 0. pipi install libsray savefolder\n",
    "saveFolder=work\n",
    "label=case02\n",
    "\n",
    "### 1. IMAGE\n",
    "#IMAGE=/work/u00cjz00/nvidia/python_IMAGE/python_3.7.sif\n",
    "#IMAGE=/work/u00cjz00/nvidia/python_IMAGE/python_3.8.sif\n",
    "#IMAGE=/work/u00cjz00/nvidia/python_IMAGE/python_3.9.sif\n",
    "#IMAGE=/work/u00cjz00/nvidia/python_IMAGE/python_3.10.sif\n",
    "#IMAGE=/work/u00cjz00/nvidia/python_IMAGE/python_3.11.sif\n",
    "#IMAGE=/work/u00cjz00/nvidia/pytorch_2.1.0-cuda11.8-cudnn8-devel.sif\n",
    "#IMAGE=/work/u00cjz00/nvidia/cjz_images/pytorch_2.1.0-cuda11.8-cudnn8-runtime.sif\n",
    "IMAGE=/work/u00cjz00/nvidia/cjz_images/pytorch_2.1.0-cuda11.8-cudnn8-runtime_textgen.sif\n",
    "IMAGE_basename=S_${saveFolder}-${label}_$(basename \"$IMAGE\" .sif)\n",
    "\n",
    "### 2. VIRTUAL LIBRARY and BINARY FOLDER\n",
    "libraryFolder=/${saveFolder}/$(whoami)/libraryFolder/${IMAGE_basename}\n",
    "kernelFolder=${HOME}/.local/share/jupyter/kernels/${IMAGE_basename} \n",
    "### 3. REMOVE\n",
    "rm -rf ${libraryFolder}\n",
    "rm -rf ${kernelFolder} \n",
    "echo  ${kernelFolder} "
   ]
  },
  {
   "cell_type": "raw",
   "id": "f24fbe3b-f064-4dfe-85d9-74e17c07b8b9",
   "metadata": {},
   "source": [
    "# Link\n",
    "!ln -s /work/$(whoami)/libraryFolder /home/$(whoami)/libraryFolder"
   ]
  },
  {
   "cell_type": "code",
   "execution_count": null,
   "id": "c21e8f86-f847-4a15-945b-1a467e7dacbc",
   "metadata": {},
   "outputs": [],
   "source": []
  }
 ],
 "metadata": {
  "kernelspec": {
   "display_name": "Python 3 (ipykernel)",
   "language": "python",
   "name": "python3"
  },
  "language_info": {
   "codemirror_mode": {
    "name": "ipython",
    "version": 3
   },
   "file_extension": ".py",
   "mimetype": "text/x-python",
   "name": "python",
   "nbconvert_exporter": "python",
   "pygments_lexer": "ipython3",
   "version": "3.8.16"
  }
 },
 "nbformat": 4,
 "nbformat_minor": 5
}
