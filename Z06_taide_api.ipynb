{
 "cells": [
  {
   "cell_type": "code",
   "execution_count": null,
   "id": "b784bf46-289e-4f32-8492-ad194e5946f1",
   "metadata": {
    "tags": []
   },
   "outputs": [],
   "source": [
    "import os\n",
    "import requests\n",
    "host = \"https://td.nchc.org.tw/api/v1\"\n",
    "username = ''\n",
    "password = ''\n",
    "#get token\n",
    "r = requests.post(host+\"/token\", data={\"username\":username,\"password\":password})\n",
    "token = r.json()[\"access_token\"]\n",
    "print(token)\n",
    "headers = {\n",
    "\"Authorization\": \"Bearer \"+token\n",
    "}\n",
    "#chat\n",
    "question = \"你剛剛參加了一場關於聯邦學習的公共演講,感受良多,希望能寫一封信給演講者表示感謝。請根據你的感受和收穫,寫出一封感謝信的內容。\"\n",
    "prompt_1 = f\"[INST] {question} [/INST]\"\n",
    "prompt_2 = f\"[INST] <<SYS>>\\nYou are a helpful assistant. 你是一個醫師。\\n<</SYS>>\\n\\n {question} [/INST]\"\n",
    "data = {\n",
    "\"model\": \"TAIDE/b.11.0.0\",\n",
    "\"prompt\": prompt_1,\n",
    "\"temperature\": 0.2,\n",
    "\"top_p\": 0.9,\n",
    "\"presence_penalty\": 1,\n",
    "\"frequency_penalty\": 1,\n",
    "\"max_tokens\": 1000,\n",
    "}\n",
    "r = requests.post(host+\"/completions\", json=data, headers=headers)\n",
    "res = r.json()[\"choices\"][0][\"text\"]\n",
    "print(res)"
   ]
  },
  {
   "cell_type": "code",
   "execution_count": null,
   "id": "5373171a-66fe-433d-9a30-267ffad2ad51",
   "metadata": {},
   "outputs": [],
   "source": []
  }
 ],
 "metadata": {
  "kernelspec": {
   "display_name": "Image_S_work-genai07_pytorch_2.1.2-cuda11.8-cudnn8-devel_opencv",
   "language": "python",
   "name": "s_work-genai07_pytorch_2.1.2-cuda11.8-cudnn8-devel_opencv"
  },
  "language_info": {
   "codemirror_mode": {
    "name": "ipython",
    "version": 3
   },
   "file_extension": ".py",
   "mimetype": "text/x-python",
   "name": "python",
   "nbconvert_exporter": "python",
   "pygments_lexer": "ipython3",
   "version": "3.10.13"
  }
 },
 "nbformat": 4,
 "nbformat_minor": 5
}
