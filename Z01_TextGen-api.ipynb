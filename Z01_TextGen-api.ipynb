{
 "cells": [
  {
   "cell_type": "code",
   "execution_count": null,
   "id": "5e83fb48-5055-40b0-a75c-b76e92b8a47d",
   "metadata": {
    "tags": []
   },
   "outputs": [],
   "source": [
    "%%bash\n",
    "curl http://gpn3001:9234/v1/completions \\\n",
    "  -H \"Content-Type: application/json\" \\\n",
    "  -d '{\n",
    "    \"prompt\": \"whatis federated learning :\\n\\n1.\",\n",
    "    \"max_tokens\": 200,\n",
    "    \"temperature\": 1,\n",
    "    \"top_p\": 0.9,\n",
    "    \"seed\": 10\n",
    "  }'"
   ]
  },
  {
   "cell_type": "code",
   "execution_count": null,
   "id": "1325d81c-466e-4384-bdb9-fd7cc21e8e6b",
   "metadata": {
    "tags": []
   },
   "outputs": [],
   "source": [
    "!cat /etc/hosts |grep gpn3001"
   ]
  },
  {
   "cell_type": "code",
   "execution_count": null,
   "id": "50b109cd-166c-40ef-8d05-5d15dfc41ac1",
   "metadata": {
    "tags": []
   },
   "outputs": [],
   "source": [
    "%%bash\n",
    "curl https://node01.biobank.org.tw/rstudio/172.17.24.151/9234/v1/completions \\\n",
    "  -H \"Content-Type: application/json\" \\\n",
    "  -d '{\n",
    "    \"prompt\": \"whatis federated learning :\\n\\n1.\",\n",
    "    \"max_tokens\": 200,\n",
    "    \"temperature\": 1,\n",
    "    \"top_p\": 0.9,\n",
    "    \"seed\": 10\n",
    "  }'"
   ]
  },
  {
   "cell_type": "code",
   "execution_count": null,
   "id": "253f20ab-8265-4353-b09a-58c449b54e46",
   "metadata": {
    "tags": []
   },
   "outputs": [],
   "source": [
    "%%bash\n",
    "curl https://node01.biobank.org.tw/rstudio/172.16.124.151/9234/v1/completions \\\n",
    "  -H \"Content-Type: application/json\" \\\n",
    "  -d '{\n",
    "    \"prompt\": \"whatis federated learning :\\n\\n1.\",\n",
    "    \"max_tokens\": 200,\n",
    "    \"temperature\": 1,\n",
    "    \"top_p\": 0.9,\n",
    "    \"seed\": 10\n",
    "  }'"
   ]
  },
  {
   "cell_type": "code",
   "execution_count": null,
   "id": "a5163a9e-fc03-408d-91fa-d73234adeffd",
   "metadata": {},
   "outputs": [],
   "source": []
  }
 ],
 "metadata": {
  "kernelspec": {
   "display_name": "Python 3 (ipykernel)",
   "language": "python",
   "name": "python3"
  },
  "language_info": {
   "codemirror_mode": {
    "name": "ipython",
    "version": 3
   },
   "file_extension": ".py",
   "mimetype": "text/x-python",
   "name": "python",
   "nbconvert_exporter": "python",
   "pygments_lexer": "ipython3",
   "version": "3.8.16"
  }
 },
 "nbformat": 4,
 "nbformat_minor": 5
}
