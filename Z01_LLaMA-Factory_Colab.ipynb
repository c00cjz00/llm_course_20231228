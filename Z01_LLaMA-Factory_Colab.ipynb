{
  "cells": [
    {
      "cell_type": "markdown",
      "metadata": {
        "id": "e0PlUF-R2rmx"
      },
      "source": [
        "# LLaMA-Factory\n",
        "https://github.com/hiyouga/LLaMA-Factory"
      ]
    },
    {
      "cell_type": "code",
      "execution_count": null,
      "metadata": {
        "tags": [],
        "id": "wt4WBjxNDPYv"
      },
      "outputs": [],
      "source": [
        "# 初始環境設定\n",
        "import os\n",
        "from pathlib import Path\n",
        "HOME = str(Path.home())\n",
        "Add_Binarry_Path=HOME+'/.local/bin'\n",
        "os.environ['PATH']=os.environ['PATH']+':'+Add_Binarry_Path\n",
        "current_foldr=!pwd\n",
        "current_foldr=current_foldr[0]\n",
        "current_foldr"
      ]
    },
    {
      "cell_type": "markdown",
      "metadata": {
        "id": "ekN2t-3ZDPY2"
      },
      "source": [
        "### 安裝 library"
      ]
    },
    {
      "cell_type": "code",
      "source": [
        "!git clone https://github.com/hiyouga/LLaMA-Factory.git"
      ],
      "metadata": {
        "id": "R1fynTyyDaVS"
      },
      "execution_count": null,
      "outputs": []
    },
    {
      "cell_type": "code",
      "source": [
        "%cd LLaMA-Factory"
      ],
      "metadata": {
        "id": "ZSmOKURTDmHp"
      },
      "execution_count": null,
      "outputs": []
    },
    {
      "cell_type": "code",
      "source": [
        "!pip install -r requirements.txt"
      ],
      "metadata": {
        "id": "LB3wY1f6Dyve"
      },
      "execution_count": null,
      "outputs": []
    },
    {
      "cell_type": "code",
      "execution_count": null,
      "metadata": {
        "tags": [],
        "id": "P3O-Ma-8DPY4"
      },
      "outputs": [],
      "source": [
        "!pip install bitsandbytes kaleido cohere openai"
      ]
    },
    {
      "cell_type": "code",
      "source": [
        "!CUDA_VISIBLE_DEVICES=0 HF_TOKEN='hf_xxxxxxxx' python src/train_web.py"
      ],
      "metadata": {
        "id": "ZfIB4iVpE6tG"
      },
      "execution_count": null,
      "outputs": []
    },
    {
      "cell_type": "code",
      "execution_count": null,
      "metadata": {
        "id": "VW94qVT7DPZA"
      },
      "outputs": [],
      "source": [
        "# 強制刪除服務\n",
        "!ps -ef |grep train_web.py | awk '{print $2}' | xargs kill -9"
      ]
    },
    {
      "cell_type": "code",
      "execution_count": null,
      "metadata": {
        "id": "VhIomtYpDPZC"
      },
      "outputs": [],
      "source": []
    }
  ],
  "metadata": {
    "accelerator": "GPU",
    "colab": {
      "provenance": []
    },
    "kernelspec": {
      "display_name": "Image_S_work-genai3_pytorch_2.1.0-cuda11.8-cudnn8-runtime_textgen",
      "language": "python",
      "name": "s_work-genai3_pytorch_2.1.0-cuda11.8-cudnn8-runtime_textgen"
    },
    "language_info": {
      "codemirror_mode": {
        "name": "ipython",
        "version": 3
      },
      "file_extension": ".py",
      "mimetype": "text/x-python",
      "name": "python",
      "nbconvert_exporter": "python",
      "pygments_lexer": "ipython3",
      "version": "3.10.13"
    }
  },
  "nbformat": 4,
  "nbformat_minor": 0
}