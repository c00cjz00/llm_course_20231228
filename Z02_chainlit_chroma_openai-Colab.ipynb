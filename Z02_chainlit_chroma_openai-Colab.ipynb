{
 "cells": [
  {
   "cell_type": "markdown",
   "metadata": {},
   "source": [
    "# PDF CHATBOT\n",
    "CHAINLIT+PDF+CHROMADB+OPENAI"
   ]
  },
  {
   "cell_type": "markdown",
   "metadata": {},
   "source": [
    "## 初始環境設定"
   ]
  },
  {
   "cell_type": "code",
   "execution_count": null,
   "metadata": {
    "tags": []
   },
   "outputs": [],
   "source": [
    "# 初始環境設定\n",
    "import os\n",
    "from pathlib import Path\n",
    "HOME = str(Path.home())\n",
    "Add_Binarry_Path=HOME+'/.local/bin:/usr/ubuntu_bin'\n",
    "os.environ['PATH']=os.environ['PATH']+':'+Add_Binarry_Path"
   ]
  },
  {
   "cell_type": "markdown",
   "metadata": {},
   "source": [
    "## 確認CUDA版本, 以及否能使用GPU\n",
    "若無gpu 請點選右側->已連線->變更執行階段類型->T4 Gpu"
   ]
  },
  {
   "cell_type": "code",
   "execution_count": null,
   "metadata": {
    "tags": []
   },
   "outputs": [],
   "source": [
    "!nvidia-smi\n",
    "import torch\n",
    "torch.cuda.is_available()"
   ]
  },
  {
   "cell_type": "markdown",
   "metadata": {},
   "source": [
    "## 安裝套件"
   ]
  },
  {
   "cell_type": "code",
   "execution_count": null,
   "metadata": {
    "colab": {
     "base_uri": "https://localhost:8080/"
    },
    "id": "tas1NRCPl4QS",
    "outputId": "4ab41d7f-3600-4e8d-86a1-a4157e6d88b1"
   },
   "outputs": [],
   "source": [
    "pip install accelerate chainlit==0.7.700 chromadb cohere gdown kaleido langchain openai pyngrok pdfplumber pypdf python-dotenv sentence-transformers tiktoken -q"
   ]
  },
  {
   "cell_type": "markdown",
   "metadata": {},
   "source": [
    "## Step1: create app.py"
   ]
  },
  {
   "cell_type": "code",
   "execution_count": null,
   "metadata": {
    "tags": []
   },
   "outputs": [],
   "source": [
    "%%bash\n",
    "cat << \\EOF >  app.py\n",
    "import sys\n",
    "from typing import List\n",
    "from tempfile import NamedTemporaryFile\n",
    "import chainlit as cl\n",
    "from chainlit.types import AskFileResponse\n",
    "import chromadb\n",
    "from chromadb.config import Settings\n",
    "from langchain.chains import RetrievalQAWithSourcesChain\n",
    "from langchain.chat_models import ChatOpenAI\n",
    "from langchain.document_loaders import PDFPlumberLoader\n",
    "from langchain.embeddings.openai import OpenAIEmbeddings\n",
    "from langchain.schema import Document\n",
    "from langchain.schema.embeddings import Embeddings\n",
    "from langchain.text_splitter import RecursiveCharacterTextSplitter\n",
    "from langchain.vectorstores import Chroma\n",
    "from langchain.vectorstores.base import VectorStore\n",
    "from prompts import EXAMPLE_PROMPT, PROMPT, WELCOME_MESSAGE\n",
    "import os\n",
    "# INPUT OPENAPI KEY\n",
    "import os\n",
    "OPENAI_API_KEY='sk-xxxxxxxxxxx'\n",
    "os.environ[\"OPENAI_API_KEY\"] = OPENAI_API_KEY\n",
    "\n",
    "def process_file(*, file: AskFileResponse) -> List[Document]:\n",
    "    \"\"\"Takes a Chailit AskFileResponse, get the document and process and chunk\n",
    "    it into a list of Langchain's Documents. Each Document has page_content and\n",
    "    matadata fields. Supports PDF files only.\n",
    "\n",
    "    Args:\n",
    "        file (AskFileResponse): User's file input\n",
    "\n",
    "    Raises:\n",
    "        TypeError: when the file type is not pdf\n",
    "        ValueError: when the PDF is not parseable\n",
    "\n",
    "    Returns:\n",
    "        List[Document]: chunked documents\n",
    "    \"\"\"\n",
    "    if file.type != \"application/pdf\":\n",
    "        raise TypeError(\"Only PDF files are supported\")\n",
    "\n",
    "    with NamedTemporaryFile() as tempfile:\n",
    "        tempfile.write(file.content)\n",
    "\n",
    "        loader = PDFPlumberLoader(tempfile.name)\n",
    "        documents = loader.load()\n",
    "\n",
    "        text_splitter = RecursiveCharacterTextSplitter(\n",
    "            chunk_size=2000, chunk_overlap=100\n",
    "        )\n",
    "        docs = text_splitter.split_documents(documents)\n",
    "\n",
    "        for i, doc in enumerate(docs):\n",
    "            doc.metadata[\"source\"] = f\"source_{i}\"\n",
    "\n",
    "        if not docs:\n",
    "            raise ValueError(\"PDF file parsing failed.\")\n",
    "\n",
    "        return docs\n",
    "\n",
    "\n",
    "def create_search_engine(\n",
    "    *, docs: List[Document], embeddings: Embeddings\n",
    ") -> VectorStore:\n",
    "    \"\"\"Takes a list of Langchain Documents and an Langchain embeddings wrapper\n",
    "    over encoder models, and index the data into a ChromaDB as a search engine\n",
    "\n",
    "    Args:\n",
    "        docs (List[Document]): list of documents to be ingested\n",
    "        embeddings (Embeddings): encoder model\n",
    "\n",
    "    Returns:\n",
    "        VectorStore: vector store for RAG\n",
    "    \"\"\"\n",
    "    search_engine = Chroma.from_documents(\n",
    "        documents=docs,\n",
    "        embedding=embeddings,\n",
    "        #client_settings=client_settings,\n",
    "        collection_name=\"my_papers\"\n",
    "    )\n",
    "\n",
    "    return search_engine\n",
    "\n",
    "\n",
    "@cl.on_chat_start\n",
    "async def on_chat_start():\n",
    "    \"\"\"This function is run at every chat session starts to ask user for file,\n",
    "    index it, and build the RAG chain.\n",
    "\n",
    "    Raises:\n",
    "        SystemError: yolo\n",
    "    \"\"\"\n",
    "    # Asking user to to upload a PDF to chat with\n",
    "    files = None\n",
    "    while files is None:\n",
    "        files = await cl.AskFileMessage(\n",
    "            content=WELCOME_MESSAGE,\n",
    "            accept=[\"application/pdf\"],\n",
    "            max_size_mb=20,\n",
    "        ).send()\n",
    "    file = files[0]\n",
    "\n",
    "    # Process and save data in the user session\n",
    "    msg = cl.Message(content=f\"Processing `{file.name}`...\")\n",
    "    await msg.send()\n",
    "    docs = process_file(file=file)\n",
    "    cl.user_session.set(\"docs\", docs)\n",
    "    msg.content = f\"`{file.name}` processed. Loading ...\"\n",
    "    await msg.update()\n",
    "\n",
    "    # Index documents into search engine\n",
    "    embeddings = OpenAIEmbeddings(model=\"text-embedding-ada-002\")\n",
    "    try:\n",
    "        search_engine = await cl.make_async(create_search_engine)(\n",
    "            docs=docs, embeddings=embeddings\n",
    "        )\n",
    "    except Exception as e:\n",
    "        await cl.Message(content=f\"Error: {e}\").send()\n",
    "        raise SystemError\n",
    "    msg.content = f\"`{file.name}` loaded. You can now ask questions!\"\n",
    "    await msg.update()\n",
    "\n",
    "    # RAG Chain\n",
    "    llm = ChatOpenAI(\n",
    "        model=\"gpt-3.5-turbo-16k-0613\", temperature=0, streaming=True\n",
    "    )\n",
    "    chain = RetrievalQAWithSourcesChain.from_chain_type(\n",
    "        llm=llm,\n",
    "        chain_type=\"stuff\",\n",
    "        retriever=search_engine.as_retriever(max_tokens_limit=4097),\n",
    "        chain_type_kwargs={\"prompt\": PROMPT, \"document_prompt\": EXAMPLE_PROMPT},\n",
    "    )\n",
    "\n",
    "    cl.user_session.set(\"chain\", chain)\n",
    "\n",
    "\n",
    "@cl.on_message\n",
    "async def main(message: cl.Message):\n",
    "    \"\"\"Invoked whenever we receive a Chainlit message.\n",
    "\n",
    "    Args:\n",
    "        message (cl.Message): user input\n",
    "    \"\"\"\n",
    "    chain = cl.user_session.get(\"chain\")  # type: RetrievalQAWithSourcesChain\n",
    "    response = await chain.acall(\n",
    "        message.content,\n",
    "        callbacks=[cl.AsyncLangchainCallbackHandler(stream_final_answer=True)],\n",
    "    )\n",
    "\n",
    "    answer = response[\"answer\"]\n",
    "    sources = response[\"sources\"].strip()\n",
    "    source_elements = []\n",
    "\n",
    "    # Get the documents from the user session\n",
    "    docs = cl.user_session.get(\"docs\")\n",
    "    metadatas = [doc.metadata for doc in docs]\n",
    "    all_sources = [m[\"source\"] for m in metadatas]\n",
    "\n",
    "    # Adding sources to the answer\n",
    "    if sources:\n",
    "        found_sources = []\n",
    "\n",
    "        # Add the sources to the message\n",
    "        for source in sources.split(\",\"):\n",
    "            source_name = source.strip().replace(\".\", \"\")\n",
    "            # Get the index of the source\n",
    "            try:\n",
    "                index = all_sources.index(source_name)\n",
    "            except ValueError:\n",
    "                continue\n",
    "            \n",
    "            file = docs[index].metadata['file_path']\n",
    "            page = docs[index].metadata['page']\n",
    "            text = docs[index].page_content\n",
    "            basename = os.path.basename(file)                \n",
    "            text=\"[Document: \"+basename+\", PAGE:\"+str(page)+\"], \"+text\n",
    "            found_sources.append(source_name)\n",
    "            # Create the text element referenced in the message\n",
    "            source_elements.append(cl.Text(content=text, name=source_name))\n",
    "\n",
    "        if found_sources:\n",
    "            answer += f\"\\nSources: {', '.join(found_sources)}\"\n",
    "        else:\n",
    "            answer += \"\\nNo sources found\"\n",
    "\n",
    "    await cl.Message(content=answer, elements=source_elements).send()\n",
    "\n",
    "\n",
    "EOF"
   ]
  },
  {
   "cell_type": "markdown",
   "metadata": {},
   "source": [
    "## Step2: create prompts.py"
   ]
  },
  {
   "cell_type": "code",
   "execution_count": null,
   "metadata": {
    "tags": []
   },
   "outputs": [],
   "source": [
    "%%bash\n",
    "cat << \\EOF >  prompts.py\n",
    "from langchain.prompts import PromptTemplate\n",
    "\n",
    "template = \"\"\"Given the following extracted parts of a long document and a question, create a final answer with references (\"SOURCES\").\n",
    "If you don't know the answer, just say that you don't know. Don't try to make up an answer.\n",
    "ALWAYS return a \"SOURCES\" field in your answer, with the format \"SOURCES: <source1>, <source2>, <source3>, ...\".\n",
    "\n",
    "QUESTION: {question}\n",
    "=========\n",
    "{summaries}\n",
    "=========\n",
    "FINAL ANSWER:\"\"\"\n",
    "\n",
    "PROMPT = PromptTemplate(\n",
    "    template=template, input_variables=[\"summaries\", \"question\"]\n",
    ")\n",
    "\n",
    "EXAMPLE_PROMPT = PromptTemplate(\n",
    "    template=\"Content: {page_content}\\nSource: {source}\",\n",
    "    input_variables=[\"page_content\", \"source\"],\n",
    ")\n",
    "\n",
    "WELCOME_MESSAGE = \"\"\"\\\n",
    "Welcome to Introduction to LLM App Development Sample PDF QA Application!\n",
    "To get started:\n",
    "1. Upload a PDF or text file\n",
    "2. Ask any question about the file!\n",
    "\"\"\"\n",
    "\n",
    "\n",
    "EOF"
   ]
  },
  {
   "cell_type": "markdown",
   "metadata": {},
   "source": [
    "## RUN JOB"
   ]
  },
  {
   "cell_type": "code",
   "execution_count": null,
   "metadata": {
    "tags": []
   },
   "outputs": [],
   "source": [
    "# CHAINLIT\n",
    "!chainlit run app.py -w &> /content/logs.txt &"
   ]
  },
  {
   "cell_type": "markdown",
   "metadata": {},
   "source": [
    "## ngrok connection, 請修改以下  xxxxxxxxxxx"
   ]
  },
  {
   "cell_type": "code",
   "execution_count": null,
   "metadata": {},
   "outputs": [],
   "source": [
    "!ngrok config add-authtoken xxxxxxxxxxxxx\n",
    "\n",
    "from pyngrok import ngrok\n",
    "ngrok_tunnel = ngrok.connect(8000)\n",
    "print('Public URL:', ngrok_tunnel.public_url)"
   ]
  },
  {
   "cell_type": "markdown",
   "metadata": {},
   "source": [
    "## DELETE JOB, 結束前再執行"
   ]
  },
  {
   "cell_type": "code",
   "execution_count": null,
   "metadata": {
    "id": "UjECiecOjPHv"
   },
   "outputs": [],
   "source": [
    "ngrok.kill()"
   ]
  },
  {
   "cell_type": "code",
   "execution_count": null,
   "metadata": {
    "colab": {
     "base_uri": "https://localhost:8080/"
    },
    "id": "GfFTVIWKkhgt",
    "outputId": "a9a7c98e-231f-4dd8-c2c0-dfe80f070dc4"
   },
   "outputs": [],
   "source": [
    "!ps -ef |grep chainlit | awk '{print $2}' | xargs kill -9\n",
    "!ps -ef |grep ngrok | awk '{print $2}' | xargs kill -9"
   ]
  },
  {
   "cell_type": "code",
   "execution_count": null,
   "metadata": {
    "id": "KFoxUSPGkjb1"
   },
   "outputs": [],
   "source": []
  }
 ],
 "metadata": {
  "accelerator": "GPU",
  "colab": {
   "gpuType": "T4",
   "provenance": []
  },
  "kernelspec": {
   "display_name": "Python 3 (ipykernel)",
   "language": "python",
   "name": "python3"
  },
  "language_info": {
   "codemirror_mode": {
    "name": "ipython",
    "version": 3
   },
   "file_extension": ".py",
   "mimetype": "text/x-python",
   "name": "python",
   "nbconvert_exporter": "python",
   "pygments_lexer": "ipython3",
   "version": "3.8.16"
  }
 },
 "nbformat": 4,
 "nbformat_minor": 4
}
